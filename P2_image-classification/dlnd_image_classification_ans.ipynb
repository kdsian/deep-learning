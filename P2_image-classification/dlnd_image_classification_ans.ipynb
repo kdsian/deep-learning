{
 "cells": [
  {
   "cell_type": "markdown",
   "metadata": {
    "collapsed": true
   },
   "source": [
    "# Image Classification\n",
    "In this project, you'll classify images from the [CIFAR-10 dataset](https://www.cs.toronto.edu/~kriz/cifar.html).  The dataset consists of airplanes, dogs, cats, and other objects. You'll preprocess the images, then train a convolutional neural network on all the samples. The images need to be normalized and the labels need to be one-hot encoded.  You'll get to apply what you learned and build a convolutional, max pooling, dropout, and fully connected layers.  At the end, you'll get to see your neural network's predictions on the sample images.\n",
    "## Get the Data\n",
    "Run the following cell to download the [CIFAR-10 dataset for python](https://www.cs.toronto.edu/~kriz/cifar-10-python.tar.gz)."
   ]
  },
  {
   "cell_type": "code",
   "execution_count": 1,
   "metadata": {
    "collapsed": false
   },
   "outputs": [
    {
     "name": "stdout",
     "output_type": "stream",
     "text": [
      "All files found!\n"
     ]
    }
   ],
   "source": [
    "\"\"\"\n",
    "DON'T MODIFY ANYTHING IN THIS CELL THAT IS BELOW THIS LINE\n",
    "\"\"\"\n",
    "from urllib.request import urlretrieve\n",
    "from os.path import isfile, isdir\n",
    "from tqdm import tqdm\n",
    "import problem_unittests as tests\n",
    "import tarfile\n",
    "\n",
    "cifar10_dataset_folder_path = 'cifar-10-batches-py'\n",
    "\n",
    "# Use Floyd's cifar-10 dataset if present\n",
    "floyd_cifar10_location = '/cifar/cifar-10-python.tar.gz'\n",
    "if isfile(floyd_cifar10_location):\n",
    "    tar_gz_path = floyd_cifar10_location\n",
    "else:\n",
    "    tar_gz_path = 'cifar-10-python.tar.gz'\n",
    "\n",
    "class DLProgress(tqdm):\n",
    "    last_block = 0\n",
    "\n",
    "    def hook(self, block_num=1, block_size=1, total_size=None):\n",
    "        self.total = total_size\n",
    "        self.update((block_num - self.last_block) * block_size)\n",
    "        self.last_block = block_num\n",
    "\n",
    "if not isfile(tar_gz_path):\n",
    "    with DLProgress(unit='B', unit_scale=True, miniters=1, desc='CIFAR-10 Dataset') as pbar:\n",
    "        urlretrieve(\n",
    "            'https://www.cs.toronto.edu/~kriz/cifar-10-python.tar.gz',\n",
    "            tar_gz_path,\n",
    "            pbar.hook)\n",
    "\n",
    "if not isdir(cifar10_dataset_folder_path):\n",
    "    with tarfile.open(tar_gz_path) as tar:\n",
    "        tar.extractall()\n",
    "        tar.close()\n",
    "\n",
    "\n",
    "tests.test_folder_path(cifar10_dataset_folder_path)"
   ]
  },
  {
   "cell_type": "markdown",
   "metadata": {},
   "source": [
    "## Explore the Data\n",
    "The dataset is broken into batches to prevent your machine from running out of memory.  The CIFAR-10 dataset consists of 5 batches, named `data_batch_1`, `data_batch_2`, etc.. Each batch contains the labels and images that are one of the following:\n",
    "* airplane\n",
    "* automobile\n",
    "* bird\n",
    "* cat\n",
    "* deer\n",
    "* dog\n",
    "* frog\n",
    "* horse\n",
    "* ship\n",
    "* truck\n",
    "\n",
    "Understanding a dataset is part of making predictions on the data.  Play around with the code cell below by changing the `batch_id` and `sample_id`. The `batch_id` is the id for a batch (1-5). The `sample_id` is the id for a image and label pair in the batch.\n",
    "\n",
    "Ask yourself \"What are all possible labels?\", \"What is the range of values for the image data?\", \"Are the labels in order or random?\".  Answers to questions like these will help you preprocess the data and end up with better predictions."
   ]
  },
  {
   "cell_type": "code",
   "execution_count": 2,
   "metadata": {
    "collapsed": false
   },
   "outputs": [
    {
     "name": "stdout",
     "output_type": "stream",
     "text": [
      "\n",
      "Stats of batch 2:\n",
      "Samples: 10000\n",
      "Label Counts: {0: 984, 1: 1007, 2: 1010, 3: 995, 4: 1010, 5: 988, 6: 1008, 7: 1026, 8: 987, 9: 985}\n",
      "First 20 Labels: [1, 6, 6, 8, 8, 3, 4, 6, 0, 6, 0, 3, 6, 6, 5, 4, 8, 3, 2, 6]\n",
      "\n",
      "Example of Image 0:\n",
      "Image - Min Value: 5 Max Value: 225\n",
      "Image - Shape: (32, 32, 3)\n",
      "Label - Label Id: 1 Name: automobile\n"
     ]
    },
    {
     "data": {
      "image/png": "[encoded data removed]",
      "text/plain": [
       "<matplotlib.figure.Figure at 0x1f851121c50>"
      ]
     },
     "metadata": {
      "image/png": {
       "height": 250,
       "width": 253
      }
     },
     "output_type": "display_data"
    }
   ],
   "source": [
    "%matplotlib inline\n",
    "%config InlineBackend.figure_format = 'retina'\n",
    "\n",
    "import helper\n",
    "import numpy as np\n",
    "\n",
    "# Explore the dataset\n",
    "batch_id = 2\n",
    "sample_id = 0\n",
    "helper.display_stats(cifar10_dataset_folder_path, batch_id, sample_id)"
   ]
  },
  {
   "cell_type": "markdown",
   "metadata": {},
   "source": [
    "## Implement Preprocess Functions\n",
    "### Normalize\n",
    "In the cell below, implement the `normalize` function to take in image data, `x`, and return it as a normalized Numpy array. The values should be in the range of 0 to 1, inclusive.  The return object should be the same shape as `x`."
   ]
  },
  {
   "cell_type": "code",
   "execution_count": 3,
   "metadata": {
    "collapsed": false
   },
   "outputs": [],
   "source": [
    "import pickle\n",
    "def load_cfar10_batch(cifar10_dataset_folder_path, batch_id):\n",
    "    \"\"\"\n",
    "    Load a batch of the dataset\n",
    "    \"\"\"\n",
    "    with open(cifar10_dataset_folder_path + '/data_batch_' + str(batch_id), mode='rb') as file:\n",
    "        batch = pickle.load(file, encoding='latin1')\n",
    "\n",
    "    features = batch['data'].reshape((len(batch['data']), 3, 32, 32)).transpose(0, 2, 3, 1)\n",
    "    labels = batch['labels']\n",
    "\n",
    "    return features, labels\n",
    "\n",
    "features, labels = load_cfar10_batch(cifar10_dataset_folder_path, batch_id)\n",
    "sample_image = features[sample_id]"
   ]
  },
  {
   "cell_type": "code",
   "execution_count": 4,
   "metadata": {
    "collapsed": false
   },
   "outputs": [
    {
     "name": "stdout",
     "output_type": "stream",
     "text": [
      "0.977777777778\n",
      "0.0\n"
     ]
    }
   ],
   "source": [
    "temp = sample_image\n",
    "temp=(temp-np.min(temp))/np.max(temp)\n",
    "print(temp.max())\n",
    "print(temp.min())"
   ]
  },
  {
   "cell_type": "code",
   "execution_count": 5,
   "metadata": {
    "collapsed": false
   },
   "outputs": [
    {
     "name": "stdout",
     "output_type": "stream",
     "text": [
      "Tests Passed\n"
     ]
    }
   ],
   "source": [
    "def normalize(x):\n",
    "    \"\"\"\n",
    "    Normalize a list of sample image data in the range of 0 to 1\n",
    "    : x: List of image data.  The image shape is (32, 32, 3)\n",
    "    : return: Numpy array of normalize data\n",
    "    \"\"\"\n",
    "    # TODO: Implement Function\n",
    "    #return None\n",
    "    output_temp = x\n",
    "    output = (output_temp-np.min(output_temp))/np.max(output_temp)\n",
    "    \n",
    "    return output\n",
    "\n",
    "\n",
    "\"\"\"\n",
    "DON'T MODIFY ANYTHING IN THIS CELL THAT IS BELOW THIS LINE\n",
    "\"\"\"\n",
    "tests.test_normalize(normalize)"
   ]
  },
  {
   "cell_type": "markdown",
   "metadata": {},
   "source": [
    "### One-hot encode\n",
    "Just like the previous code cell, you'll be implementing a function for preprocessing.  This time, you'll implement the `one_hot_encode` function. The input, `x`, are a list of labels.  Implement the function to return the list of labels as One-Hot encoded Numpy array.  The possible values for labels are 0 to 9. The one-hot encoding function should return the same encoding for each value between each call to `one_hot_encode`.  Make sure to save the map of encodings outside the function.\n",
    "\n",
    "Hint: Don't reinvent the wheel."
   ]
  },
  {
   "cell_type": "code",
   "execution_count": 6,
   "metadata": {
    "collapsed": false
   },
   "outputs": [
    {
     "name": "stdout",
     "output_type": "stream",
     "text": [
      "Tests Passed\n"
     ]
    }
   ],
   "source": [
    "def one_hot_encode(x):\n",
    "    \"\"\"\n",
    "    One hot encode a list of sample labels. Return a one-hot encoded vector for each label.\n",
    "    : x: List of sample Labels\n",
    "    : return: Numpy array of one-hot encoded labels\n",
    "    \"\"\"\n",
    "    # TODO: Implement Function\n",
    "    output = np.zeros([np.size(x),10])\n",
    "    \n",
    "    for i,index in enumerate(x):\n",
    "        output[i,index]=1\n",
    "    return output\n",
    "\n",
    "\n",
    "\"\"\"\n",
    "DON'T MODIFY ANYTHING IN THIS CELL THAT IS BELOW THIS LINE\n",
    "\"\"\"\n",
    "tests.test_one_hot_encode(one_hot_encode)"
   ]
  },
  {
   "cell_type": "markdown",
   "metadata": {},
   "source": [
    "### Randomize Data\n",
    "As you saw from exploring the data above, the order of the samples are randomized.  It doesn't hurt to randomize it again, but you don't need to for this dataset."
   ]
  },
  {
   "cell_type": "markdown",
   "metadata": {},
   "source": [
    "## Preprocess all the data and save it\n",
    "Running the code cell below will preprocess all the CIFAR-10 data and save it to file. The code below also uses 10% of the training data for validation."
   ]
  },
  {
   "cell_type": "code",
   "execution_count": 7,
   "metadata": {
    "collapsed": false
   },
   "outputs": [],
   "source": [
    "\"\"\"\n",
    "DON'T MODIFY ANYTHING IN THIS CELL\n",
    "\"\"\"\n",
    "# Preprocess Training, Validation, and Testing Data\n",
    "helper.preprocess_and_save_data(cifar10_dataset_folder_path, normalize, one_hot_encode)"
   ]
  },
  {
   "cell_type": "markdown",
   "metadata": {},
   "source": [
    "# Check Point\n",
    "This is your first checkpoint.  If you ever decide to come back to this notebook or have to restart the notebook, you can start from here.  The preprocessed data has been saved to disk."
   ]
  },
  {
   "cell_type": "code",
   "execution_count": 8,
   "metadata": {
    "collapsed": true
   },
   "outputs": [],
   "source": [
    "\"\"\"\n",
    "DON'T MODIFY ANYTHING IN THIS CELL\n",
    "\"\"\"\n",
    "import pickle\n",
    "import problem_unittests as tests\n",
    "import helper\n",
    "\n",
    "# Load the Preprocessed Validation data\n",
    "valid_features, valid_labels = pickle.load(open('preprocess_validation.p', mode='rb'))"
   ]
  },
  {
   "cell_type": "markdown",
   "metadata": {},
   "source": [
    "## Build the network\n",
    "For the neural network, you'll build each layer into a function.  Most of the code you've seen has been outside of functions. To test your code more thoroughly, we require that you put each layer in a function.  This allows us to give you better feedback and test for simple mistakes using our unittests before you submit your project.\n",
    "\n",
    ">**Note:** If you're finding it hard to dedicate enough time for this course each week, we've provided a small shortcut to this part of the project. In the next couple of problems, you'll have the option to use classes from the [TensorFlow Layers](https://www.tensorflow.org/api_docs/python/tf/layers) or [TensorFlow Layers (contrib)](https://www.tensorflow.org/api_guides/python/contrib.layers) packages to build each layer, except the layers you build in the \"Convolutional and Max Pooling Layer\" section.  TF Layers is similar to Keras's and TFLearn's abstraction to layers, so it's easy to pickup.\n",
    "\n",
    ">However, if you would like to get the most out of this course, try to solve all the problems _without_ using anything from the TF Layers packages. You **can** still use classes from other packages that happen to have the same name as ones you find in TF Layers! For example, instead of using the TF Layers version of the `conv2d` class, [tf.layers.conv2d](https://www.tensorflow.org/api_docs/python/tf/layers/conv2d), you would want to use the TF Neural Network version of `conv2d`, [tf.nn.conv2d](https://www.tensorflow.org/api_docs/python/tf/nn/conv2d). \n",
    "\n",
    "Let's begin!\n",
    "\n",
    "### Input\n",
    "The neural network needs to read the image data, one-hot encoded labels, and dropout keep probability. Implement the following functions\n",
    "* Implement `neural_net_image_input`\n",
    " * Return a [TF Placeholder](https://www.tensorflow.org/api_docs/python/tf/placeholder)\n",
    " * Set the shape using `image_shape` with batch size set to `None`.\n",
    " * Name the TensorFlow placeholder \"x\" using the TensorFlow `name` parameter in the [TF Placeholder](https://www.tensorflow.org/api_docs/python/tf/placeholder).\n",
    "* Implement `neural_net_label_input`\n",
    " * Return a [TF Placeholder](https://www.tensorflow.org/api_docs/python/tf/placeholder)\n",
    " * Set the shape using `n_classes` with batch size set to `None`.\n",
    " * Name the TensorFlow placeholder \"y\" using the TensorFlow `name` parameter in the [TF Placeholder](https://www.tensorflow.org/api_docs/python/tf/placeholder).\n",
    "* Implement `neural_net_keep_prob_input`\n",
    " * Return a [TF Placeholder](https://www.tensorflow.org/api_docs/python/tf/placeholder) for dropout keep probability.\n",
    " * Name the TensorFlow placeholder \"keep_prob\" using the TensorFlow `name` parameter in the [TF Placeholder](https://www.tensorflow.org/api_docs/python/tf/placeholder).\n",
    "\n",
    "These names will be used at the end of the project to load your saved model.\n",
    "\n",
    "Note: `None` for shapes in TensorFlow allow for a dynamic size."
   ]
  },
  {
   "cell_type": "code",
   "execution_count": 9,
   "metadata": {
    "collapsed": false
   },
   "outputs": [
    {
     "name": "stdout",
     "output_type": "stream",
     "text": [
      "Image Input Tests Passed.\n",
      "Label Input Tests Passed.\n",
      "Keep Prob Tests Passed.\n"
     ]
    }
   ],
   "source": [
    "import tensorflow as tf\n",
    "\n",
    "def neural_net_image_input(image_shape):\n",
    "    \"\"\"\n",
    "    Return a Tensor for a batch of image input\n",
    "    : image_shape: Shape of the images\n",
    "    : return: Tensor for image input.\n",
    "    \"\"\"\n",
    "    # TODO: Implement Function\n",
    "    #return None\n",
    "    \n",
    "    input_freatures = tf.placeholder(tf.float32, [None, image_shape[0],image_shape[1],image_shape[2]],'x')\n",
    "    return input_freatures\n",
    "\n",
    "\n",
    "def neural_net_label_input(n_classes):\n",
    "    \"\"\"\n",
    "    Return a Tensor for a batch of label input\n",
    "    : n_classes: Number of classes\n",
    "    : return: Tensor for label input.\n",
    "    \"\"\"\n",
    "    # TODO: Implement Function\n",
    "    #return None\n",
    "    input_labels = tf.placeholder(tf.float32,[None, n_classes],'y')\n",
    "    return input_labels\n",
    "\n",
    "\n",
    "def neural_net_keep_prob_input():\n",
    "    \"\"\"\n",
    "    Return a Tensor for keep probability\n",
    "    : return: Tensor for keep probability.\n",
    "    \"\"\"\n",
    "    # TODO: Implement Function\n",
    "    #return None\n",
    "    keep_prob = tf.placeholder(tf.float32,name='keep_prob') \n",
    "    return keep_prob\n",
    "\n",
    "\n",
    "\"\"\"\n",
    "DON'T MODIFY ANYTHING IN THIS CELL THAT IS BELOW THIS LINE\n",
    "\"\"\"\n",
    "tf.reset_default_graph()\n",
    "tests.test_nn_image_inputs(neural_net_image_input)\n",
    "tests.test_nn_label_inputs(neural_net_label_input)\n",
    "tests.test_nn_keep_prob_inputs(neural_net_keep_prob_input)"
   ]
  },
  {
   "cell_type": "markdown",
   "metadata": {},
   "source": [
    "### Convolution and Max Pooling Layer\n",
    "Convolution layers have a lot of success with images. For this code cell, you should implement the function `conv2d_maxpool` to apply convolution then max pooling:\n",
    "* Create the weight and bias using `conv_ksize`, `conv_num_outputs` and the shape of `x_tensor`.\n",
    "* Apply a convolution to `x_tensor` using weight and `conv_strides`.\n",
    " * We recommend you use same padding, but you're welcome to use any padding.\n",
    "* Add bias\n",
    "* Add a nonlinear activation to the convolution.\n",
    "* Apply Max Pooling using `pool_ksize` and `pool_strides`.\n",
    " * We recommend you use same padding, but you're welcome to use any padding.\n",
    "\n",
    "**Note:** You **can't** use [TensorFlow Layers](https://www.tensorflow.org/api_docs/python/tf/layers) or [TensorFlow Layers (contrib)](https://www.tensorflow.org/api_guides/python/contrib.layers) for **this** layer, but you can still use TensorFlow's [Neural Network](https://www.tensorflow.org/api_docs/python/tf/nn) package. You may still use the shortcut option for all the **other** layers."
   ]
  },
  {
   "cell_type": "code",
   "execution_count": 10,
   "metadata": {
    "collapsed": false
   },
   "outputs": [
    {
     "name": "stdout",
     "output_type": "stream",
     "text": [
      "Tests Passed\n"
     ]
    }
   ],
   "source": [
    "def conv2d_maxpool(x_tensor, conv_num_outputs, conv_ksize, conv_strides, pool_ksize, pool_strides):\n",
    "    \"\"\"\n",
    "    Apply convolution then max pooling to x_tensor\n",
    "    :param x_tensor: TensorFlow Tensor\n",
    "    :param conv_num_outputs: Number of outputs for the convolutional layer\n",
    "    :param conv_ksize: kernal size 2-D Tuple for the convolutional layer\n",
    "    :param conv_strides: Stride 2-D Tuple for convolution\n",
    "    :param pool_ksize: kernal size 2-D Tuple for pool\n",
    "    :param pool_strides: Stride 2-D Tuple for pool\n",
    "    : return: A tensor that represents convolution and max pooling of x_tensor\n",
    "    \"\"\"\n",
    "    # TODO: Implement Function\n",
    "    #return None \n",
    "    \n",
    "    F_W  = tf.Variable(tf.random_normal([*conv_ksize, int(x_tensor.shape[3]), conv_num_outputs], stddev = 0.1))\n",
    "    F_b  = tf.Variable(tf.zeros(conv_num_outputs))\n",
    "\n",
    "    Output = tf.nn.conv2d(x_tensor, F_W , [1, *conv_strides, 1], padding='SAME')\n",
    "    Output = tf.nn.bias_add(Output, F_b )\n",
    "    Output = tf.nn.relu(Output)\n",
    "    Output = tf.nn.max_pool(Output, [1, *conv_ksize, 1], [1, *pool_strides, 1], padding='SAME')\n",
    "    \n",
    "    return Output\n",
    "\n",
    "\"\"\"\n",
    "DON'T MODIFY ANYTHING IN THIS CELL THAT IS BELOW THIS LINE\n",
    "\"\"\"\n",
    "tests.test_con_pool(conv2d_maxpool)"
   ]
  },
  {
   "cell_type": "markdown",
   "metadata": {},
   "source": [
    "### Flatten Layer\n",
    "Implement the `flatten` function to change the dimension of `x_tensor` from a 4-D tensor to a 2-D tensor.  The output should be the shape (*Batch Size*, *Flattened Image Size*). Shortcut option: you can use classes from the [TensorFlow Layers](https://www.tensorflow.org/api_docs/python/tf/layers) or [TensorFlow Layers (contrib)](https://www.tensorflow.org/api_guides/python/contrib.layers) packages for this layer. For more of a challenge, only use other TensorFlow packages."
   ]
  },
  {
   "cell_type": "code",
   "execution_count": 11,
   "metadata": {
    "collapsed": false,
    "scrolled": true
   },
   "outputs": [
    {
     "name": "stdout",
     "output_type": "stream",
     "text": [
      "Tests Passed\n"
     ]
    }
   ],
   "source": [
    "def flatten(x_tensor):\n",
    "    \"\"\"\n",
    "    Flatten x_tensor to (Batch Size, Flattened Image Size)\n",
    "    : x_tensor: A tensor of size (Batch Size, ...), where ... are the image dimensions.\n",
    "    : return: A tensor of size (Batch Size, Flattened Image Size).\n",
    "    \"\"\"\n",
    "    # TODO: Implement Function\n",
    "    #return None\n",
    "    shape = x_tensor.get_shape().as_list()        # a list: [None, x, y, z]\n",
    "    dim = np.prod(shape[1:])                      # dim = prod(x,y,z) = (x) x (y) x (z)\n",
    "    return tf.reshape(x_tensor, [-1, dim])  \n",
    "\n",
    "\n",
    "\"\"\"\n",
    "DON'T MODIFY ANYTHING IN THIS CELL THAT IS BELOW THIS LINE\n",
    "\"\"\"\n",
    "tests.test_flatten(flatten)"
   ]
  },
  {
   "cell_type": "markdown",
   "metadata": {},
   "source": [
    "### Fully-Connected Layer\n",
    "Implement the `fully_conn` function to apply a fully connected layer to `x_tensor` with the shape (*Batch Size*, *num_outputs*). Shortcut option: you can use classes from the [TensorFlow Layers](https://www.tensorflow.org/api_docs/python/tf/layers) or [TensorFlow Layers (contrib)](https://www.tensorflow.org/api_guides/python/contrib.layers) packages for this layer. For more of a challenge, only use other TensorFlow packages."
   ]
  },
  {
   "cell_type": "code",
   "execution_count": 12,
   "metadata": {
    "collapsed": false
   },
   "outputs": [
    {
     "name": "stdout",
     "output_type": "stream",
     "text": [
      "Tests Passed\n"
     ]
    }
   ],
   "source": [
    "def fully_conn(x_tensor, num_outputs):\n",
    "    \"\"\"\n",
    "    Apply a fully connected layer to x_tensor using weight and bias\n",
    "    : x_tensor: A 2-D tensor where the first dimension is batch size.\n",
    "    : num_outputs: The number of output that the new tensor should be.\n",
    "    : return: A 2-D tensor where the second dimension is num_outputs.\n",
    "    \"\"\"\n",
    "    # TODO: Implement Function\n",
    "    #eturn None\n",
    "    \n",
    "    F_W  = tf.Variable(tf.random_normal([int(x_tensor.shape[1]), num_outputs], stddev = 0.1))\n",
    "    F_b  = tf.Variable(tf.zeros(num_outputs))\n",
    "    hidden_layer = tf.add(tf.matmul(x_tensor,F_W),F_b)\n",
    "    hidden_layer = tf.nn.relu(hidden_layer)\n",
    "    return hidden_layer\n",
    "\n",
    "\n",
    "\"\"\"\n",
    "DON'T MODIFY ANYTHING IN THIS CELL THAT IS BELOW THIS LINE\n",
    "\"\"\"\n",
    "tests.test_fully_conn(fully_conn)"
   ]
  },
  {
   "cell_type": "markdown",
   "metadata": {},
   "source": [
    "### Output Layer\n",
    "Implement the `output` function to apply a fully connected layer to `x_tensor` with the shape (*Batch Size*, *num_outputs*). Shortcut option: you can use classes from the [TensorFlow Layers](https://www.tensorflow.org/api_docs/python/tf/layers) or [TensorFlow Layers (contrib)](https://www.tensorflow.org/api_guides/python/contrib.layers) packages for this layer. For more of a challenge, only use other TensorFlow packages.\n",
    "\n",
    "**Note:** Activation, softmax, or cross entropy should **not** be applied to this."
   ]
  },
  {
   "cell_type": "code",
   "execution_count": 13,
   "metadata": {
    "collapsed": false
   },
   "outputs": [
    {
     "name": "stdout",
     "output_type": "stream",
     "text": [
      "Tests Passed\n"
     ]
    }
   ],
   "source": [
    "def output(x_tensor, num_outputs):\n",
    "    \"\"\"\n",
    "    Apply a output layer to x_tensor using weight and bias\n",
    "    : x_tensor: A 2-D tensor where the first dimension is batch size.\n",
    "    : num_outputs: The number of output that the new tensor should be.\n",
    "    : return: A 2-D tensor where the second dimension is num_outputs.\n",
    "    \"\"\"\n",
    "    # TODO: Implement Function\n",
    "    #return None\n",
    "    F_W  = tf.Variable(tf.random_normal([int(x_tensor.shape[1]), num_outputs], stddev = 0.1))\n",
    "    F_b  = tf.Variable(tf.zeros(num_outputs))\n",
    "    Output = tf.add(tf.matmul(x_tensor,F_W),F_b)\n",
    "    return Output\n",
    "\n",
    "\"\"\"\n",
    "DON'T MODIFY ANYTHING IN THIS CELL THAT IS BELOW THIS LINE\n",
    "\"\"\"\n",
    "tests.test_output(output)"
   ]
  },
  {
   "cell_type": "markdown",
   "metadata": {},
   "source": [
    "### Create Convolutional Model\n",
    "Implement the function `conv_net` to create a convolutional neural network model. The function takes in a batch of images, `x`, and outputs logits.  Use the layers you created above to create this model:\n",
    "\n",
    "* Apply 1, 2, or 3 Convolution and Max Pool layers\n",
    "* Apply a Flatten Layer\n",
    "* Apply 1, 2, or 3 Fully Connected Layers\n",
    "* Apply an Output Layer\n",
    "* Return the output\n",
    "* Apply [TensorFlow's Dropout](https://www.tensorflow.org/api_docs/python/tf/nn/dropout) to one or more layers in the model using `keep_prob`. "
   ]
  },
  {
   "cell_type": "code",
   "execution_count": 14,
   "metadata": {
    "collapsed": false
   },
   "outputs": [
    {
     "name": "stdout",
     "output_type": "stream",
     "text": [
      "Neural Network Built!\n"
     ]
    }
   ],
   "source": [
    "def conv_net(x, keep_prob):\n",
    "    \"\"\"\n",
    "    Create a convolutional neural network model\n",
    "    : x: Placeholder tensor that holds image data.\n",
    "    : keep_prob: Placeholder tensor that hold dropout keep probability.\n",
    "    : return: Tensor that represents logits\n",
    "    \"\"\"\n",
    "    # TODO: Apply 1, 2, or 3 Convolution and Max Pool layers\n",
    "    #    Play around with different number of outputs, kernel size and stride\n",
    "    # Function Definition from Above:\n",
    "    #    conv2d_maxpool(x_tensor, conv_num_outputs, conv_ksize, conv_strides, pool_ksize, pool_strides)\n",
    "    CNN1 = conv2d_maxpool(x,16,[3, 3], [2, 2],[3,3],[1, 1] )\n",
    "    CNN2 = conv2d_maxpool(CNN1,64,[3, 3], [2, 2] ,[3,3],[ 1, 1] )\n",
    "    CNN3 = conv2d_maxpool(CNN2,256,[3, 3], [2, 2] ,[3,3],[ 1, 1] )\n",
    "\n",
    "    # TODO: Apply a Flatten Layer\n",
    "    # Function Definition from Above:\n",
    "    #   flatten(x_tensor)\n",
    "    flatten_layer=flatten(CNN3)\n",
    "\n",
    "    # TODO: Apply 1, 2, or 3 Fully Connected Layers\n",
    "    #    Play around with different number of outputs\n",
    "    # Function Definition from Above:\n",
    "    #   fully_conn(x_tensor, num_outputs)\n",
    "    FC1=fully_conn(flatten_layer, 64)\n",
    "    FC2=fully_conn(FC1, 32)\n",
    "    FC3=fully_conn(FC2, 16)\n",
    "    FC3 = tf.nn.dropout(FC3, keep_prob)\n",
    "    # TODO: Apply an Output Layer\n",
    "    #    Set this to the number of classes\n",
    "    # Function Definition from Above:\n",
    "    #   output(x_tensor, num_outputs)\n",
    "    output_layer = output(FC3, 10)\n",
    "    \n",
    "    # TODO: return output\n",
    "    return output_layer\n",
    "\n",
    "\n",
    "\"\"\"\n",
    "DON'T MODIFY ANYTHING IN THIS CELL THAT IS BELOW THIS LINE\n",
    "\"\"\"\n",
    "\n",
    "##############################\n",
    "## Build the Neural Network ##\n",
    "##############################\n",
    "\n",
    "# Remove previous weights, bias, inputs, etc..\n",
    "tf.reset_default_graph()\n",
    "\n",
    "# Inputs\n",
    "x = neural_net_image_input((32, 32, 3))\n",
    "y = neural_net_label_input(10)\n",
    "keep_prob = neural_net_keep_prob_input()\n",
    "\n",
    "# Model\n",
    "logits = conv_net(x, keep_prob)\n",
    "\n",
    "# Name logits Tensor, so that is can be loaded from disk after training\n",
    "logits = tf.identity(logits, name='logits')\n",
    "\n",
    "# Loss and Optimizer\n",
    "cost = tf.reduce_mean(tf.nn.softmax_cross_entropy_with_logits(logits=logits, labels=y))\n",
    "optimizer = tf.train.AdamOptimizer().minimize(cost)\n",
    "\n",
    "# Accuracy\n",
    "correct_pred = tf.equal(tf.argmax(logits, 1), tf.argmax(y, 1))\n",
    "accuracy = tf.reduce_mean(tf.cast(correct_pred, tf.float32), name='accuracy')\n",
    "\n",
    "tests.test_conv_net(conv_net)"
   ]
  },
  {
   "cell_type": "markdown",
   "metadata": {},
   "source": [
    "## Train the Neural Network\n",
    "### Single Optimization\n",
    "Implement the function `train_neural_network` to do a single optimization.  The optimization should use `optimizer` to optimize in `session` with a `feed_dict` of the following:\n",
    "* `x` for image input\n",
    "* `y` for labels\n",
    "* `keep_prob` for keep probability for dropout\n",
    "\n",
    "This function will be called for each batch, so `tf.global_variables_initializer()` has already been called.\n",
    "\n",
    "Note: Nothing needs to be returned. This function is only optimizing the neural network."
   ]
  },
  {
   "cell_type": "code",
   "execution_count": 15,
   "metadata": {
    "collapsed": false
   },
   "outputs": [
    {
     "name": "stdout",
     "output_type": "stream",
     "text": [
      "Tests Passed\n"
     ]
    }
   ],
   "source": [
    "def train_neural_network(session, optimizer, keep_probability, feature_batch, label_batch):\n",
    "    \"\"\"\n",
    "    Optimize the session on a batch of images and labels\n",
    "    : session: Current TensorFlow session\n",
    "    : optimizer: TensorFlow optimizer function\n",
    "    : keep_probability: keep probability\n",
    "    : feature_batch: Batch of Numpy image data\n",
    "    : label_batch: Batch of Numpy label data\n",
    "    \"\"\"\n",
    "    # TODO: Implement Function\n",
    "    #pass\n",
    "    session.run(optimizer,feed_dict={x:feature_batch, y:label_batch,keep_prob:keep_probability})\n",
    "\n",
    "\n",
    "\"\"\"\n",
    "DON'T MODIFY ANYTHING IN THIS CELL THAT IS BELOW THIS LINE\n",
    "\"\"\"\n",
    "tests.test_train_nn(train_neural_network)"
   ]
  },
  {
   "cell_type": "markdown",
   "metadata": {},
   "source": [
    "### Show Stats\n",
    "Implement the function `print_stats` to print loss and validation accuracy.  Use the global variables `valid_features` and `valid_labels` to calculate validation accuracy.  Use a keep probability of `1.0` to calculate the loss and validation accuracy."
   ]
  },
  {
   "cell_type": "code",
   "execution_count": 16,
   "metadata": {
    "collapsed": true
   },
   "outputs": [],
   "source": [
    "def print_stats(session, feature_batch, label_batch, cost, accuracy):\n",
    "    \"\"\"\n",
    "    Print information about loss and validation accuracy\n",
    "    : session: Current TensorFlow session\n",
    "    : feature_batch: Batch of Numpy image data\n",
    "    : label_batch: Batch of Numpy label data\n",
    "    : cost: TensorFlow cost function\n",
    "    : accuracy: TensorFlow accuracy function\n",
    "    \"\"\"\n",
    "    # TODO: Implement Function\n",
    "    #pass\n",
    "    loss = session.run(cost, feed_dict={x:feature_batch, y:label_batch, keep_prob:1.0})\n",
    "    valid_acc = session.run(accuracy, feed_dict={x: valid_features,y: valid_labels,keep_prob: 1.0})\n",
    "    print('Loss: {:>10.4f} Validation Accuracy: {:.6f}'.format(loss,valid_acc))"
   ]
  },
  {
   "cell_type": "markdown",
   "metadata": {},
   "source": [
    "### Hyperparameters\n",
    "Tune the following parameters:\n",
    "* Set `epochs` to the number of iterations until the network stops learning or start overfitting\n",
    "* Set `batch_size` to the highest number that your machine has memory for.  Most people set them to common sizes of memory:\n",
    " * 64\n",
    " * 128\n",
    " * 256\n",
    " * ...\n",
    "* Set `keep_probability` to the probability of keeping a node using dropout"
   ]
  },
  {
   "cell_type": "code",
   "execution_count": 17,
   "metadata": {
    "collapsed": true
   },
   "outputs": [],
   "source": [
    "# TODO: Tune Parameters\n",
    "epochs = 40\n",
    "batch_size = 128\n",
    "keep_probability =0.7"
   ]
  },
  {
   "cell_type": "markdown",
   "metadata": {},
   "source": [
    "### Train on a Single CIFAR-10 Batch\n",
    "Instead of training the neural network on all the CIFAR-10 batches of data, let's use a single batch. This should save time while you iterate on the model to get a better accuracy.  Once the final validation accuracy is 50% or greater, run the model on all the data in the next section."
   ]
  },
  {
   "cell_type": "code",
   "execution_count": 18,
   "metadata": {
    "collapsed": false
   },
   "outputs": [
    {
     "name": "stdout",
     "output_type": "stream",
     "text": [
      "Checking the Training on a Single Batch...\n",
      "Epoch  1, CIFAR-10 Batch 1:  Loss:     2.2231 Validation Accuracy: 0.195200\n",
      "Epoch  2, CIFAR-10 Batch 1:  Loss:     2.1192 Validation Accuracy: 0.274000\n",
      "Epoch  3, CIFAR-10 Batch 1:  Loss:     1.9392 Validation Accuracy: 0.337400\n",
      "Epoch  4, CIFAR-10 Batch 1:  Loss:     1.8936 Validation Accuracy: 0.376000\n",
      "Epoch  5, CIFAR-10 Batch 1:  Loss:     1.7899 Validation Accuracy: 0.408800\n",
      "Epoch  6, CIFAR-10 Batch 1:  Loss:     1.6619 Validation Accuracy: 0.439600\n",
      "Epoch  7, CIFAR-10 Batch 1:  Loss:     1.5725 Validation Accuracy: 0.436800\n",
      "Epoch  8, CIFAR-10 Batch 1:  Loss:     1.5130 Validation Accuracy: 0.461200\n",
      "Epoch  9, CIFAR-10 Batch 1:  Loss:     1.5357 Validation Accuracy: 0.441400\n",
      "Epoch 10, CIFAR-10 Batch 1:  Loss:     1.4003 Validation Accuracy: 0.480200\n",
      "Epoch 11, CIFAR-10 Batch 1:  Loss:     1.3666 Validation Accuracy: 0.477400\n",
      "Epoch 12, CIFAR-10 Batch 1:  Loss:     1.2955 Validation Accuracy: 0.479600\n",
      "Epoch 13, CIFAR-10 Batch 1:  Loss:     1.2140 Validation Accuracy: 0.488200\n",
      "Epoch 14, CIFAR-10 Batch 1:  Loss:     1.1595 Validation Accuracy: 0.496000\n",
      "Epoch 15, CIFAR-10 Batch 1:  Loss:     1.0617 Validation Accuracy: 0.516600\n",
      "Epoch 16, CIFAR-10 Batch 1:  Loss:     0.9686 Validation Accuracy: 0.523200\n",
      "Epoch 17, CIFAR-10 Batch 1:  Loss:     0.9545 Validation Accuracy: 0.524600\n",
      "Epoch 18, CIFAR-10 Batch 1:  Loss:     0.9311 Validation Accuracy: 0.523800\n",
      "Epoch 19, CIFAR-10 Batch 1:  Loss:     0.8855 Validation Accuracy: 0.515800\n",
      "Epoch 20, CIFAR-10 Batch 1:  Loss:     0.8374 Validation Accuracy: 0.506200\n",
      "Epoch 21, CIFAR-10 Batch 1:  Loss:     0.7447 Validation Accuracy: 0.537000\n",
      "Epoch 22, CIFAR-10 Batch 1:  Loss:     0.6720 Validation Accuracy: 0.529200\n",
      "Epoch 23, CIFAR-10 Batch 1:  Loss:     0.6869 Validation Accuracy: 0.515800\n",
      "Epoch 24, CIFAR-10 Batch 1:  Loss:     0.6651 Validation Accuracy: 0.510800\n",
      "Epoch 25, CIFAR-10 Batch 1:  Loss:     0.6174 Validation Accuracy: 0.521200\n",
      "Epoch 26, CIFAR-10 Batch 1:  Loss:     0.6015 Validation Accuracy: 0.521400\n",
      "Epoch 27, CIFAR-10 Batch 1:  Loss:     0.6001 Validation Accuracy: 0.509800\n",
      "Epoch 28, CIFAR-10 Batch 1:  Loss:     0.6581 Validation Accuracy: 0.504000\n",
      "Epoch 29, CIFAR-10 Batch 1:  Loss:     0.4676 Validation Accuracy: 0.536800\n",
      "Epoch 30, CIFAR-10 Batch 1:  Loss:     0.4530 Validation Accuracy: 0.516000\n",
      "Epoch 31, CIFAR-10 Batch 1:  Loss:     0.5468 Validation Accuracy: 0.513600\n",
      "Epoch 32, CIFAR-10 Batch 1:  Loss:     0.5228 Validation Accuracy: 0.506000\n",
      "Epoch 33, CIFAR-10 Batch 1:  Loss:     0.4741 Validation Accuracy: 0.508800\n",
      "Epoch 34, CIFAR-10 Batch 1:  Loss:     0.4167 Validation Accuracy: 0.528200\n",
      "Epoch 35, CIFAR-10 Batch 1:  Loss:     0.3815 Validation Accuracy: 0.527600\n",
      "Epoch 36, CIFAR-10 Batch 1:  Loss:     0.4322 Validation Accuracy: 0.507400\n",
      "Epoch 37, CIFAR-10 Batch 1:  Loss:     0.3809 Validation Accuracy: 0.514800\n",
      "Epoch 38, CIFAR-10 Batch 1:  Loss:     0.3854 Validation Accuracy: 0.517800\n",
      "Epoch 39, CIFAR-10 Batch 1:  Loss:     0.4581 Validation Accuracy: 0.507200\n",
      "Epoch 40, CIFAR-10 Batch 1:  Loss:     0.3311 Validation Accuracy: 0.529800\n"
     ]
    }
   ],
   "source": [
    "\"\"\"\n",
    "DON'T MODIFY ANYTHING IN THIS CELL\n",
    "\"\"\"\n",
    "print('Checking the Training on a Single Batch...')\n",
    "with tf.Session() as sess:\n",
    "    # Initializing the variables\n",
    "    sess.run(tf.global_variables_initializer())\n",
    "    \n",
    "    # Training cycle\n",
    "    for epoch in range(epochs):\n",
    "        batch_i = 1\n",
    "        for batch_features, batch_labels in helper.load_preprocess_training_batch(batch_i, batch_size):\n",
    "            train_neural_network(sess, optimizer, keep_probability, batch_features, batch_labels)\n",
    "        print('Epoch {:>2}, CIFAR-10 Batch {}:  '.format(epoch + 1, batch_i), end='')\n",
    "        print_stats(sess, batch_features, batch_labels, cost, accuracy)"
   ]
  },
  {
   "cell_type": "markdown",
   "metadata": {},
   "source": [
    "### Fully Train the Model\n",
    "Now that you got a good accuracy with a single CIFAR-10 batch, try it with all five batches."
   ]
  },
  {
   "cell_type": "code",
   "execution_count": 19,
   "metadata": {
    "collapsed": false
   },
   "outputs": [
    {
     "name": "stdout",
     "output_type": "stream",
     "text": [
      "Training...\n",
      "Epoch  1, CIFAR-10 Batch 1:  Loss:     2.2571 Validation Accuracy: 0.153800\n",
      "Epoch  1, CIFAR-10 Batch 2:  Loss:     1.9690 Validation Accuracy: 0.269200\n",
      "Epoch  1, CIFAR-10 Batch 3:  Loss:     1.8007 Validation Accuracy: 0.311600\n",
      "Epoch  1, CIFAR-10 Batch 4:  Loss:     1.7709 Validation Accuracy: 0.350000\n",
      "Epoch  1, CIFAR-10 Batch 5:  Loss:     1.7361 Validation Accuracy: 0.361000\n",
      "Epoch  2, CIFAR-10 Batch 1:  Loss:     1.8031 Validation Accuracy: 0.398200\n",
      "Epoch  2, CIFAR-10 Batch 2:  Loss:     1.5489 Validation Accuracy: 0.431200\n",
      "Epoch  2, CIFAR-10 Batch 3:  Loss:     1.4692 Validation Accuracy: 0.397600\n",
      "Epoch  2, CIFAR-10 Batch 4:  Loss:     1.6307 Validation Accuracy: 0.425000\n",
      "Epoch  2, CIFAR-10 Batch 5:  Loss:     1.4993 Validation Accuracy: 0.429200\n",
      "Epoch  3, CIFAR-10 Batch 1:  Loss:     1.5515 Validation Accuracy: 0.449600\n",
      "Epoch  3, CIFAR-10 Batch 2:  Loss:     1.4514 Validation Accuracy: 0.431600\n",
      "Epoch  3, CIFAR-10 Batch 3:  Loss:     1.2619 Validation Accuracy: 0.466200\n",
      "Epoch  3, CIFAR-10 Batch 4:  Loss:     1.4908 Validation Accuracy: 0.481000\n",
      "Epoch  3, CIFAR-10 Batch 5:  Loss:     1.3841 Validation Accuracy: 0.470600\n",
      "Epoch  4, CIFAR-10 Batch 1:  Loss:     1.3920 Validation Accuracy: 0.488200\n",
      "Epoch  4, CIFAR-10 Batch 2:  Loss:     1.3418 Validation Accuracy: 0.494200\n",
      "Epoch  4, CIFAR-10 Batch 3:  Loss:     1.1775 Validation Accuracy: 0.493200\n",
      "Epoch  4, CIFAR-10 Batch 4:  Loss:     1.3781 Validation Accuracy: 0.514000\n",
      "Epoch  4, CIFAR-10 Batch 5:  Loss:     1.2754 Validation Accuracy: 0.497200\n",
      "Epoch  5, CIFAR-10 Batch 1:  Loss:     1.3123 Validation Accuracy: 0.490000\n",
      "Epoch  5, CIFAR-10 Batch 2:  Loss:     1.2238 Validation Accuracy: 0.487400\n",
      "Epoch  5, CIFAR-10 Batch 3:  Loss:     1.0735 Validation Accuracy: 0.498800\n",
      "Epoch  5, CIFAR-10 Batch 4:  Loss:     1.2878 Validation Accuracy: 0.527600\n",
      "Epoch  5, CIFAR-10 Batch 5:  Loss:     1.1452 Validation Accuracy: 0.537000\n",
      "Epoch  6, CIFAR-10 Batch 1:  Loss:     1.1980 Validation Accuracy: 0.523000\n",
      "Epoch  6, CIFAR-10 Batch 2:  Loss:     1.1554 Validation Accuracy: 0.520000\n",
      "Epoch  6, CIFAR-10 Batch 3:  Loss:     0.9600 Validation Accuracy: 0.547200\n",
      "Epoch  6, CIFAR-10 Batch 4:  Loss:     1.1333 Validation Accuracy: 0.543200\n",
      "Epoch  6, CIFAR-10 Batch 5:  Loss:     1.0876 Validation Accuracy: 0.548600\n",
      "Epoch  7, CIFAR-10 Batch 1:  Loss:     1.1312 Validation Accuracy: 0.515400\n",
      "Epoch  7, CIFAR-10 Batch 2:  Loss:     1.0533 Validation Accuracy: 0.537000\n",
      "Epoch  7, CIFAR-10 Batch 3:  Loss:     0.8867 Validation Accuracy: 0.540400\n",
      "Epoch  7, CIFAR-10 Batch 4:  Loss:     1.1212 Validation Accuracy: 0.569400\n",
      "Epoch  7, CIFAR-10 Batch 5:  Loss:     1.0246 Validation Accuracy: 0.536800\n",
      "Epoch  8, CIFAR-10 Batch 1:  Loss:     1.0795 Validation Accuracy: 0.544000\n",
      "Epoch  8, CIFAR-10 Batch 2:  Loss:     0.9599 Validation Accuracy: 0.545600\n",
      "Epoch  8, CIFAR-10 Batch 3:  Loss:     0.8359 Validation Accuracy: 0.563800\n",
      "Epoch  8, CIFAR-10 Batch 4:  Loss:     1.0285 Validation Accuracy: 0.565000\n",
      "Epoch  8, CIFAR-10 Batch 5:  Loss:     0.9618 Validation Accuracy: 0.578200\n",
      "Epoch  9, CIFAR-10 Batch 1:  Loss:     0.9706 Validation Accuracy: 0.556400\n",
      "Epoch  9, CIFAR-10 Batch 2:  Loss:     0.8698 Validation Accuracy: 0.563200\n",
      "Epoch  9, CIFAR-10 Batch 3:  Loss:     0.7461 Validation Accuracy: 0.583000\n",
      "Epoch  9, CIFAR-10 Batch 4:  Loss:     1.0162 Validation Accuracy: 0.561200\n",
      "Epoch  9, CIFAR-10 Batch 5:  Loss:     0.9199 Validation Accuracy: 0.572600\n",
      "Epoch 10, CIFAR-10 Batch 1:  Loss:     0.8392 Validation Accuracy: 0.568600\n",
      "Epoch 10, CIFAR-10 Batch 2:  Loss:     0.8307 Validation Accuracy: 0.576400\n",
      "Epoch 10, CIFAR-10 Batch 3:  Loss:     0.6974 Validation Accuracy: 0.588000\n",
      "Epoch 10, CIFAR-10 Batch 4:  Loss:     0.8890 Validation Accuracy: 0.585200\n",
      "Epoch 10, CIFAR-10 Batch 5:  Loss:     0.8369 Validation Accuracy: 0.590400\n",
      "Epoch 11, CIFAR-10 Batch 1:  Loss:     0.7040 Validation Accuracy: 0.583200\n",
      "Epoch 11, CIFAR-10 Batch 2:  Loss:     0.7874 Validation Accuracy: 0.583000\n",
      "Epoch 11, CIFAR-10 Batch 3:  Loss:     0.6504 Validation Accuracy: 0.585200\n",
      "Epoch 11, CIFAR-10 Batch 4:  Loss:     0.7808 Validation Accuracy: 0.603600\n",
      "Epoch 11, CIFAR-10 Batch 5:  Loss:     0.7929 Validation Accuracy: 0.602600\n",
      "Epoch 12, CIFAR-10 Batch 1:  Loss:     0.6622 Validation Accuracy: 0.611800\n",
      "Epoch 12, CIFAR-10 Batch 2:  Loss:     0.8108 Validation Accuracy: 0.594800\n",
      "Epoch 12, CIFAR-10 Batch 3:  Loss:     0.6406 Validation Accuracy: 0.582200\n",
      "Epoch 12, CIFAR-10 Batch 4:  Loss:     0.7823 Validation Accuracy: 0.602800\n",
      "Epoch 12, CIFAR-10 Batch 5:  Loss:     0.7829 Validation Accuracy: 0.599000\n",
      "Epoch 13, CIFAR-10 Batch 1:  Loss:     0.6920 Validation Accuracy: 0.601800\n",
      "Epoch 13, CIFAR-10 Batch 2:  Loss:     0.8067 Validation Accuracy: 0.593200\n",
      "Epoch 13, CIFAR-10 Batch 3:  Loss:     0.5773 Validation Accuracy: 0.596600\n",
      "Epoch 13, CIFAR-10 Batch 4:  Loss:     0.7616 Validation Accuracy: 0.620800\n",
      "Epoch 13, CIFAR-10 Batch 5:  Loss:     0.6367 Validation Accuracy: 0.612000\n",
      "Epoch 14, CIFAR-10 Batch 1:  Loss:     0.6913 Validation Accuracy: 0.604200\n",
      "Epoch 14, CIFAR-10 Batch 2:  Loss:     0.7161 Validation Accuracy: 0.614400\n",
      "Epoch 14, CIFAR-10 Batch 3:  Loss:     0.5107 Validation Accuracy: 0.597200\n",
      "Epoch 14, CIFAR-10 Batch 4:  Loss:     0.7318 Validation Accuracy: 0.612400\n",
      "Epoch 14, CIFAR-10 Batch 5:  Loss:     0.5617 Validation Accuracy: 0.636000\n",
      "Epoch 15, CIFAR-10 Batch 1:  Loss:     0.5825 Validation Accuracy: 0.613600\n",
      "Epoch 15, CIFAR-10 Batch 2:  Loss:     0.6678 Validation Accuracy: 0.606400\n",
      "Epoch 15, CIFAR-10 Batch 3:  Loss:     0.4984 Validation Accuracy: 0.588600\n",
      "Epoch 15, CIFAR-10 Batch 4:  Loss:     0.6638 Validation Accuracy: 0.623600\n",
      "Epoch 15, CIFAR-10 Batch 5:  Loss:     0.4912 Validation Accuracy: 0.633000\n",
      "Epoch 16, CIFAR-10 Batch 1:  Loss:     0.5544 Validation Accuracy: 0.601800\n",
      "Epoch 16, CIFAR-10 Batch 2:  Loss:     0.6233 Validation Accuracy: 0.613400\n",
      "Epoch 16, CIFAR-10 Batch 3:  Loss:     0.4503 Validation Accuracy: 0.599000\n",
      "Epoch 16, CIFAR-10 Batch 4:  Loss:     0.5737 Validation Accuracy: 0.632800\n",
      "Epoch 16, CIFAR-10 Batch 5:  Loss:     0.5283 Validation Accuracy: 0.621400\n",
      "Epoch 17, CIFAR-10 Batch 1:  Loss:     0.5881 Validation Accuracy: 0.616200\n",
      "Epoch 17, CIFAR-10 Batch 2:  Loss:     0.6856 Validation Accuracy: 0.589200\n",
      "Epoch 17, CIFAR-10 Batch 3:  Loss:     0.4406 Validation Accuracy: 0.606200\n",
      "Epoch 17, CIFAR-10 Batch 4:  Loss:     0.5459 Validation Accuracy: 0.627600\n",
      "Epoch 17, CIFAR-10 Batch 5:  Loss:     0.4114 Validation Accuracy: 0.644800\n",
      "Epoch 18, CIFAR-10 Batch 1:  Loss:     0.5371 Validation Accuracy: 0.643600\n",
      "Epoch 18, CIFAR-10 Batch 2:  Loss:     0.5519 Validation Accuracy: 0.626200\n",
      "Epoch 18, CIFAR-10 Batch 3:  Loss:     0.4286 Validation Accuracy: 0.623800\n",
      "Epoch 18, CIFAR-10 Batch 4:  Loss:     0.4986 Validation Accuracy: 0.642400\n",
      "Epoch 18, CIFAR-10 Batch 5:  Loss:     0.4459 Validation Accuracy: 0.643800\n",
      "Epoch 19, CIFAR-10 Batch 1:  Loss:     0.5641 Validation Accuracy: 0.649800\n",
      "Epoch 19, CIFAR-10 Batch 2:  Loss:     0.5107 Validation Accuracy: 0.640000\n",
      "Epoch 19, CIFAR-10 Batch 3:  Loss:     0.3741 Validation Accuracy: 0.644400\n",
      "Epoch 19, CIFAR-10 Batch 4:  Loss:     0.4612 Validation Accuracy: 0.645800\n",
      "Epoch 19, CIFAR-10 Batch 5:  Loss:     0.5090 Validation Accuracy: 0.635800\n",
      "Epoch 20, CIFAR-10 Batch 1:  Loss:     0.5713 Validation Accuracy: 0.634000\n",
      "Epoch 20, CIFAR-10 Batch 2:  Loss:     0.4342 Validation Accuracy: 0.611800\n",
      "Epoch 20, CIFAR-10 Batch 3:  Loss:     0.3815 Validation Accuracy: 0.638200\n",
      "Epoch 20, CIFAR-10 Batch 4:  Loss:     0.4379 Validation Accuracy: 0.646800\n",
      "Epoch 20, CIFAR-10 Batch 5:  Loss:     0.3337 Validation Accuracy: 0.628600\n",
      "Epoch 21, CIFAR-10 Batch 1:  Loss:     0.5849 Validation Accuracy: 0.630400\n",
      "Epoch 21, CIFAR-10 Batch 2:  Loss:     0.3973 Validation Accuracy: 0.626000\n",
      "Epoch 21, CIFAR-10 Batch 3:  Loss:     0.2938 Validation Accuracy: 0.647600\n",
      "Epoch 21, CIFAR-10 Batch 4:  Loss:     0.3880 Validation Accuracy: 0.640800\n",
      "Epoch 21, CIFAR-10 Batch 5:  Loss:     0.3099 Validation Accuracy: 0.638800\n",
      "Epoch 22, CIFAR-10 Batch 1:  Loss:     0.4748 Validation Accuracy: 0.646800\n",
      "Epoch 22, CIFAR-10 Batch 2:  Loss:     0.4102 Validation Accuracy: 0.641000\n",
      "Epoch 22, CIFAR-10 Batch 3:  Loss:     0.2700 Validation Accuracy: 0.639000\n",
      "Epoch 22, CIFAR-10 Batch 4:  Loss:     0.4215 Validation Accuracy: 0.631800\n",
      "Epoch 22, CIFAR-10 Batch 5:  Loss:     0.3083 Validation Accuracy: 0.653600\n",
      "Epoch 23, CIFAR-10 Batch 1:  Loss:     0.4522 Validation Accuracy: 0.650000\n",
      "Epoch 23, CIFAR-10 Batch 2:  Loss:     0.3514 Validation Accuracy: 0.644000\n",
      "Epoch 23, CIFAR-10 Batch 3:  Loss:     0.2878 Validation Accuracy: 0.665400\n",
      "Epoch 23, CIFAR-10 Batch 4:  Loss:     0.4101 Validation Accuracy: 0.652000\n",
      "Epoch 23, CIFAR-10 Batch 5:  Loss:     0.2886 Validation Accuracy: 0.646600\n",
      "Epoch 24, CIFAR-10 Batch 1:  Loss:     0.4466 Validation Accuracy: 0.636400\n",
      "Epoch 24, CIFAR-10 Batch 2:  Loss:     0.3338 Validation Accuracy: 0.627800\n",
      "Epoch 24, CIFAR-10 Batch 3:  Loss:     0.2502 Validation Accuracy: 0.663200\n",
      "Epoch 24, CIFAR-10 Batch 4:  Loss:     0.3571 Validation Accuracy: 0.642200\n",
      "Epoch 24, CIFAR-10 Batch 5:  Loss:     0.2567 Validation Accuracy: 0.643200\n",
      "Epoch 25, CIFAR-10 Batch 1:  Loss:     0.4749 Validation Accuracy: 0.654400\n",
      "Epoch 25, CIFAR-10 Batch 2:  Loss:     0.3195 Validation Accuracy: 0.646600\n",
      "Epoch 25, CIFAR-10 Batch 3:  Loss:     0.2755 Validation Accuracy: 0.657600\n",
      "Epoch 25, CIFAR-10 Batch 4:  Loss:     0.3467 Validation Accuracy: 0.648800\n",
      "Epoch 25, CIFAR-10 Batch 5:  Loss:     0.2681 Validation Accuracy: 0.656200\n",
      "Epoch 26, CIFAR-10 Batch 1:  Loss:     0.4870 Validation Accuracy: 0.631800\n",
      "Epoch 26, CIFAR-10 Batch 2:  Loss:     0.3055 Validation Accuracy: 0.653400\n",
      "Epoch 26, CIFAR-10 Batch 3:  Loss:     0.2663 Validation Accuracy: 0.631200\n",
      "Epoch 26, CIFAR-10 Batch 4:  Loss:     0.3422 Validation Accuracy: 0.655600\n",
      "Epoch 26, CIFAR-10 Batch 5:  Loss:     0.2471 Validation Accuracy: 0.631800\n",
      "Epoch 27, CIFAR-10 Batch 1:  Loss:     0.3342 Validation Accuracy: 0.641600\n",
      "Epoch 27, CIFAR-10 Batch 2:  Loss:     0.3100 Validation Accuracy: 0.648600\n",
      "Epoch 27, CIFAR-10 Batch 3:  Loss:     0.2811 Validation Accuracy: 0.648200\n",
      "Epoch 27, CIFAR-10 Batch 4:  Loss:     0.3986 Validation Accuracy: 0.637200\n",
      "Epoch 27, CIFAR-10 Batch 5:  Loss:     0.2555 Validation Accuracy: 0.626600\n",
      "Epoch 28, CIFAR-10 Batch 1:  Loss:     0.3231 Validation Accuracy: 0.661600\n",
      "Epoch 28, CIFAR-10 Batch 2:  Loss:     0.3611 Validation Accuracy: 0.668800\n",
      "Epoch 28, CIFAR-10 Batch 3:  Loss:     0.2027 Validation Accuracy: 0.654000\n",
      "Epoch 28, CIFAR-10 Batch 4:  Loss:     0.3117 Validation Accuracy: 0.651000\n",
      "Epoch 28, CIFAR-10 Batch 5:  Loss:     0.2334 Validation Accuracy: 0.648200\n",
      "Epoch 29, CIFAR-10 Batch 1:  Loss:     0.3133 Validation Accuracy: 0.661800\n",
      "Epoch 29, CIFAR-10 Batch 2:  Loss:     0.4193 Validation Accuracy: 0.657400\n",
      "Epoch 29, CIFAR-10 Batch 3:  Loss:     0.2296 Validation Accuracy: 0.641200\n",
      "Epoch 29, CIFAR-10 Batch 4:  Loss:     0.2738 Validation Accuracy: 0.651200\n",
      "Epoch 29, CIFAR-10 Batch 5:  Loss:     0.2229 Validation Accuracy: 0.647000\n",
      "Epoch 30, CIFAR-10 Batch 1:  Loss:     0.3625 Validation Accuracy: 0.649600\n",
      "Epoch 30, CIFAR-10 Batch 2:  Loss:     0.3160 Validation Accuracy: 0.664400\n",
      "Epoch 30, CIFAR-10 Batch 3:  Loss:     0.2176 Validation Accuracy: 0.645000\n",
      "Epoch 30, CIFAR-10 Batch 4:  Loss:     0.2707 Validation Accuracy: 0.632800\n",
      "Epoch 30, CIFAR-10 Batch 5:  Loss:     0.1557 Validation Accuracy: 0.640800\n",
      "Epoch 31, CIFAR-10 Batch 1:  Loss:     0.3398 Validation Accuracy: 0.652600\n",
      "Epoch 31, CIFAR-10 Batch 2:  Loss:     0.3328 Validation Accuracy: 0.663000\n",
      "Epoch 31, CIFAR-10 Batch 3:  Loss:     0.1858 Validation Accuracy: 0.656200\n",
      "Epoch 31, CIFAR-10 Batch 4:  Loss:     0.2140 Validation Accuracy: 0.657000\n",
      "Epoch 31, CIFAR-10 Batch 5:  Loss:     0.1825 Validation Accuracy: 0.658200\n",
      "Epoch 32, CIFAR-10 Batch 1:  Loss:     0.2919 Validation Accuracy: 0.640800\n",
      "Epoch 32, CIFAR-10 Batch 2:  Loss:     0.2713 Validation Accuracy: 0.668000\n",
      "Epoch 32, CIFAR-10 Batch 3:  Loss:     0.1466 Validation Accuracy: 0.662000\n",
      "Epoch 32, CIFAR-10 Batch 4:  Loss:     0.1970 Validation Accuracy: 0.661200\n",
      "Epoch 32, CIFAR-10 Batch 5:  Loss:     0.1604 Validation Accuracy: 0.642000\n",
      "Epoch 33, CIFAR-10 Batch 1:  Loss:     0.2966 Validation Accuracy: 0.665400\n",
      "Epoch 33, CIFAR-10 Batch 2:  Loss:     0.2572 Validation Accuracy: 0.637400\n",
      "Epoch 33, CIFAR-10 Batch 3:  Loss:     0.2083 Validation Accuracy: 0.653600\n",
      "Epoch 33, CIFAR-10 Batch 4:  Loss:     0.2231 Validation Accuracy: 0.669600\n",
      "Epoch 33, CIFAR-10 Batch 5:  Loss:     0.2198 Validation Accuracy: 0.638400\n",
      "Epoch 34, CIFAR-10 Batch 1:  Loss:     0.3155 Validation Accuracy: 0.652600\n",
      "Epoch 34, CIFAR-10 Batch 2:  Loss:     0.2640 Validation Accuracy: 0.658800\n",
      "Epoch 34, CIFAR-10 Batch 3:  Loss:     0.1914 Validation Accuracy: 0.646800\n",
      "Epoch 34, CIFAR-10 Batch 4:  Loss:     0.2977 Validation Accuracy: 0.656000\n",
      "Epoch 34, CIFAR-10 Batch 5:  Loss:     0.1262 Validation Accuracy: 0.651200\n",
      "Epoch 35, CIFAR-10 Batch 1:  Loss:     0.3021 Validation Accuracy: 0.666600\n",
      "Epoch 35, CIFAR-10 Batch 2:  Loss:     0.2680 Validation Accuracy: 0.644400\n",
      "Epoch 35, CIFAR-10 Batch 3:  Loss:     0.1244 Validation Accuracy: 0.658600\n",
      "Epoch 35, CIFAR-10 Batch 4:  Loss:     0.2405 Validation Accuracy: 0.659000\n",
      "Epoch 35, CIFAR-10 Batch 5:  Loss:     0.1039 Validation Accuracy: 0.667600\n",
      "Epoch 36, CIFAR-10 Batch 1:  Loss:     0.2767 Validation Accuracy: 0.662400\n",
      "Epoch 36, CIFAR-10 Batch 2:  Loss:     0.2439 Validation Accuracy: 0.639600\n",
      "Epoch 36, CIFAR-10 Batch 3:  Loss:     0.1888 Validation Accuracy: 0.648600\n",
      "Epoch 36, CIFAR-10 Batch 4:  Loss:     0.2263 Validation Accuracy: 0.652800\n",
      "Epoch 36, CIFAR-10 Batch 5:  Loss:     0.0964 Validation Accuracy: 0.635400\n",
      "Epoch 37, CIFAR-10 Batch 1:  Loss:     0.2612 Validation Accuracy: 0.669200\n",
      "Epoch 37, CIFAR-10 Batch 2:  Loss:     0.2377 Validation Accuracy: 0.649600\n",
      "Epoch 37, CIFAR-10 Batch 3:  Loss:     0.1333 Validation Accuracy: 0.655000\n",
      "Epoch 37, CIFAR-10 Batch 4:  Loss:     0.2205 Validation Accuracy: 0.651000\n",
      "Epoch 37, CIFAR-10 Batch 5:  Loss:     0.1180 Validation Accuracy: 0.656400\n",
      "Epoch 38, CIFAR-10 Batch 1:  Loss:     0.3313 Validation Accuracy: 0.667400\n",
      "Epoch 38, CIFAR-10 Batch 2:  Loss:     0.2384 Validation Accuracy: 0.661600\n",
      "Epoch 38, CIFAR-10 Batch 3:  Loss:     0.1582 Validation Accuracy: 0.638800\n",
      "Epoch 38, CIFAR-10 Batch 4:  Loss:     0.2547 Validation Accuracy: 0.656200\n",
      "Epoch 38, CIFAR-10 Batch 5:  Loss:     0.1187 Validation Accuracy: 0.643800\n",
      "Epoch 39, CIFAR-10 Batch 1:  Loss:     0.2845 Validation Accuracy: 0.659600\n",
      "Epoch 39, CIFAR-10 Batch 2:  Loss:     0.2031 Validation Accuracy: 0.636200\n",
      "Epoch 39, CIFAR-10 Batch 3:  Loss:     0.1489 Validation Accuracy: 0.643400\n",
      "Epoch 39, CIFAR-10 Batch 4:  Loss:     0.2440 Validation Accuracy: 0.652200\n",
      "Epoch 39, CIFAR-10 Batch 5:  Loss:     0.0784 Validation Accuracy: 0.659200\n",
      "Epoch 40, CIFAR-10 Batch 1:  Loss:     0.3202 Validation Accuracy: 0.654800\n",
      "Epoch 40, CIFAR-10 Batch 2:  Loss:     0.2338 Validation Accuracy: 0.651600\n",
      "Epoch 40, CIFAR-10 Batch 3:  Loss:     0.1192 Validation Accuracy: 0.661400\n",
      "Epoch 40, CIFAR-10 Batch 4:  Loss:     0.1881 Validation Accuracy: 0.657600\n",
      "Epoch 40, CIFAR-10 Batch 5:  Loss:     0.0887 Validation Accuracy: 0.659400\n"
     ]
    }
   ],
   "source": [
    "\"\"\"\n",
    "DON'T MODIFY ANYTHING IN THIS CELL\n",
    "\"\"\"\n",
    "save_model_path = './image_classification'\n",
    "\n",
    "print('Training...')\n",
    "with tf.Session() as sess:\n",
    "    # Initializing the variables\n",
    "    sess.run(tf.global_variables_initializer())\n",
    "    \n",
    "    # Training cycle\n",
    "    for epoch in range(epochs):\n",
    "        # Loop over all batches\n",
    "        n_batches = 5\n",
    "        for batch_i in range(1, n_batches + 1):\n",
    "            for batch_features, batch_labels in helper.load_preprocess_training_batch(batch_i, batch_size):\n",
    "                train_neural_network(sess, optimizer, keep_probability, batch_features, batch_labels)\n",
    "            print('Epoch {:>2}, CIFAR-10 Batch {}:  '.format(epoch + 1, batch_i), end='')\n",
    "            print_stats(sess, batch_features, batch_labels, cost, accuracy)\n",
    "            \n",
    "    # Save Model\n",
    "    saver = tf.train.Saver()\n",
    "    save_path = saver.save(sess, save_model_path)"
   ]
  },
  {
   "cell_type": "markdown",
   "metadata": {},
   "source": [
    "\n",
    "# Checkpoint\n",
    "The model has been saved to disk.\n",
    "## Test Model\n",
    "Test your model against the test dataset.  This will be your final accuracy. You should have an accuracy greater than 50%. If you don't, keep tweaking the model architecture and parameters."
   ]
  },
  {
   "cell_type": "code",
   "execution_count": 20,
   "metadata": {
    "collapsed": false
   },
   "outputs": [
    {
     "name": "stdout",
     "output_type": "stream",
     "text": [
      "INFO:tensorflow:Restoring parameters from ./image_classification\n",
      "Testing Accuracy: 0.6592167721518988\n",
      "\n"
     ]
    },
    {
     "data": {
      "image/png": "[encoded data removed]",
      "text/plain": [
       "<matplotlib.figure.Figure at 0x207c2f05780>"
      ]
     },
     "metadata": {
      "image/png": {
       "height": 319,
       "width": 355
      }
     },
     "output_type": "display_data"
    }
   ],
   "source": [
    "\"\"\"\n",
    "DON'T MODIFY ANYTHING IN THIS CELL\n",
    "\"\"\"\n",
    "%matplotlib inline\n",
    "%config InlineBackend.figure_format = 'retina'\n",
    "\n",
    "import tensorflow as tf\n",
    "import pickle\n",
    "import helper\n",
    "import random\n",
    "\n",
    "# Set batch size if not already set\n",
    "try:\n",
    "    if batch_size:\n",
    "        pass\n",
    "except NameError:\n",
    "    batch_size = 64\n",
    "\n",
    "save_model_path = './image_classification'\n",
    "n_samples = 4\n",
    "top_n_predictions = 3\n",
    "\n",
    "def test_model():\n",
    "    \"\"\"\n",
    "    Test the saved model against the test dataset\n",
    "    \"\"\"\n",
    "\n",
    "    test_features, test_labels = pickle.load(open('preprocess_test.p', mode='rb'))\n",
    "    loaded_graph = tf.Graph()\n",
    "\n",
    "    with tf.Session(graph=loaded_graph) as sess:\n",
    "        # Load model\n",
    "        loader = tf.train.import_meta_graph(save_model_path + '.meta')\n",
    "        loader.restore(sess, save_model_path)\n",
    "\n",
    "        # Get Tensors from loaded model\n",
    "        loaded_x = loaded_graph.get_tensor_by_name('x:0')\n",
    "        loaded_y = loaded_graph.get_tensor_by_name('y:0')\n",
    "        loaded_keep_prob = loaded_graph.get_tensor_by_name('keep_prob:0')\n",
    "        loaded_logits = loaded_graph.get_tensor_by_name('logits:0')\n",
    "        loaded_acc = loaded_graph.get_tensor_by_name('accuracy:0')\n",
    "        \n",
    "        # Get accuracy in batches for memory limitations\n",
    "        test_batch_acc_total = 0\n",
    "        test_batch_count = 0\n",
    "        \n",
    "        for test_feature_batch, test_label_batch in helper.batch_features_labels(test_features, test_labels, batch_size):\n",
    "            test_batch_acc_total += sess.run(\n",
    "                loaded_acc,\n",
    "                feed_dict={loaded_x: test_feature_batch, loaded_y: test_label_batch, loaded_keep_prob: 1.0})\n",
    "            test_batch_count += 1\n",
    "\n",
    "        print('Testing Accuracy: {}\\n'.format(test_batch_acc_total/test_batch_count))\n",
    "\n",
    "        # Print Random Samples\n",
    "        random_test_features, random_test_labels = tuple(zip(*random.sample(list(zip(test_features, test_labels)), n_samples)))\n",
    "        random_test_predictions = sess.run(\n",
    "            tf.nn.top_k(tf.nn.softmax(loaded_logits), top_n_predictions),\n",
    "            feed_dict={loaded_x: random_test_features, loaded_y: random_test_labels, loaded_keep_prob: 1.0})\n",
    "        helper.display_image_predictions(random_test_features, random_test_labels, random_test_predictions)\n",
    "\n",
    "\n",
    "test_model()"
   ]
  },
  {
   "cell_type": "markdown",
   "metadata": {},
   "source": [
    "## Why 50-80% Accuracy?\n",
    "You might be wondering why you can't get an accuracy any higher. First things first, 50% isn't bad for a simple CNN.  Pure guessing would get you 10% accuracy. However, you might notice people are getting scores [well above 80%](http://rodrigob.github.io/are_we_there_yet/build/classification_datasets_results.html#43494641522d3130).  That's because we haven't taught you all there is to know about neural networks. We still need to cover a few more techniques.\n",
    "## Submitting This Project\n",
    "When submitting this project, make sure to run all the cells before saving the notebook.  Save the notebook file as \"dlnd_image_classification.ipynb\" and save it as a HTML file under \"File\" -> \"Download as\".  Include the \"helper.py\" and \"problem_unittests.py\" files in your submission."
   ]
  }
 ],
 "metadata": {
  "anaconda-cloud": {},
  "kernelspec": {
   "display_name": "Python 3",
   "language": "python",
   "name": "python3"
  },
  "language_info": {
   "codemirror_mode": {
    "name": "ipython",
    "version": 3
   },
   "file_extension": ".py",
   "mimetype": "text/x-python",
   "name": "python",
   "nbconvert_exporter": "python",
   "pygments_lexer": "ipython3",
   "version": "3.6.0"
  }
 },
 "nbformat": 4,
 "nbformat_minor": 1
}
