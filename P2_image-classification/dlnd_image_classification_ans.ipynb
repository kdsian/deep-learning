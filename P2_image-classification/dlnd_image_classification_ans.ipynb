{
 "cells": [
  {
   "cell_type": "markdown",
   "metadata": {
    "collapsed": true
   },
   "source": [
    "# Image Classification\n",
    "In this project, you'll classify images from the [CIFAR-10 dataset](https://www.cs.toronto.edu/~kriz/cifar.html).  The dataset consists of airplanes, dogs, cats, and other objects. You'll preprocess the images, then train a convolutional neural network on all the samples. The images need to be normalized and the labels need to be one-hot encoded.  You'll get to apply what you learned and build a convolutional, max pooling, dropout, and fully connected layers.  At the end, you'll get to see your neural network's predictions on the sample images.\n",
    "## Get the Data\n",
    "Run the following cell to download the [CIFAR-10 dataset for python](https://www.cs.toronto.edu/~kriz/cifar-10-python.tar.gz)."
   ]
  },
  {
   "cell_type": "code",
   "execution_count": 1,
   "metadata": {},
   "outputs": [
    {
     "name": "stdout",
     "output_type": "stream",
     "text": [
      "All files found!\n"
     ]
    }
   ],
   "source": [
    "\"\"\"\n",
    "DON'T MODIFY ANYTHING IN THIS CELL THAT IS BELOW THIS LINE\n",
    "\"\"\"\n",
    "from urllib.request import urlretrieve\n",
    "from os.path import isfile, isdir\n",
    "from tqdm import tqdm\n",
    "import problem_unittests as tests\n",
    "import tarfile\n",
    "\n",
    "cifar10_dataset_folder_path = 'cifar-10-batches-py'\n",
    "\n",
    "# Use Floyd's cifar-10 dataset if present\n",
    "floyd_cifar10_location = '/cifar/cifar-10-python.tar.gz'\n",
    "if isfile(floyd_cifar10_location):\n",
    "    tar_gz_path = floyd_cifar10_location\n",
    "else:\n",
    "    tar_gz_path = 'cifar-10-python.tar.gz'\n",
    "\n",
    "class DLProgress(tqdm):\n",
    "    last_block = 0\n",
    "\n",
    "    def hook(self, block_num=1, block_size=1, total_size=None):\n",
    "        self.total = total_size\n",
    "        self.update((block_num - self.last_block) * block_size)\n",
    "        self.last_block = block_num\n",
    "\n",
    "if not isfile(tar_gz_path):\n",
    "    with DLProgress(unit='B', unit_scale=True, miniters=1, desc='CIFAR-10 Dataset') as pbar:\n",
    "        urlretrieve(\n",
    "            'https://www.cs.toronto.edu/~kriz/cifar-10-python.tar.gz',\n",
    "            tar_gz_path,\n",
    "            pbar.hook)\n",
    "\n",
    "if not isdir(cifar10_dataset_folder_path):\n",
    "    with tarfile.open(tar_gz_path) as tar:\n",
    "        tar.extractall()\n",
    "        tar.close()\n",
    "\n",
    "\n",
    "tests.test_folder_path(cifar10_dataset_folder_path)"
   ]
  },
  {
   "cell_type": "markdown",
   "metadata": {},
   "source": [
    "## Explore the Data\n",
    "The dataset is broken into batches to prevent your machine from running out of memory.  The CIFAR-10 dataset consists of 5 batches, named `data_batch_1`, `data_batch_2`, etc.. Each batch contains the labels and images that are one of the following:\n",
    "* airplane\n",
    "* automobile\n",
    "* bird\n",
    "* cat\n",
    "* deer\n",
    "* dog\n",
    "* frog\n",
    "* horse\n",
    "* ship\n",
    "* truck\n",
    "\n",
    "Understanding a dataset is part of making predictions on the data.  Play around with the code cell below by changing the `batch_id` and `sample_id`. The `batch_id` is the id for a batch (1-5). The `sample_id` is the id for a image and label pair in the batch.\n",
    "\n",
    "Ask yourself \"What are all possible labels?\", \"What is the range of values for the image data?\", \"Are the labels in order or random?\".  Answers to questions like these will help you preprocess the data and end up with better predictions."
   ]
  },
  {
   "cell_type": "code",
   "execution_count": 2,
   "metadata": {},
   "outputs": [
    {
     "name": "stdout",
     "output_type": "stream",
     "text": [
      "\n",
      "Stats of batch 2:\n",
      "Samples: 10000\n",
      "Label Counts: {0: 984, 1: 1007, 2: 1010, 3: 995, 4: 1010, 5: 988, 6: 1008, 7: 1026, 8: 987, 9: 985}\n",
      "First 20 Labels: [1, 6, 6, 8, 8, 3, 4, 6, 0, 6, 0, 3, 6, 6, 5, 4, 8, 3, 2, 6]\n",
      "\n",
      "Example of Image 0:\n",
      "Image - Min Value: 5 Max Value: 225\n",
      "Image - Shape: (32, 32, 3)\n",
      "Label - Label Id: 1 Name: automobile\n"
     ]
    },
    {
     "data": {
      "image/png": "[encoded data removed]",
      "text/plain": [
       "<matplotlib.figure.Figure at 0x276ffcce518>"
      ]
     },
     "metadata": {
      "image/png": {
       "height": 250,
       "width": 253
      }
     },
     "output_type": "display_data"
    }
   ],
   "source": [
    "%matplotlib inline\n",
    "%config InlineBackend.figure_format = 'retina'\n",
    "\n",
    "import helper\n",
    "import numpy as np\n",
    "\n",
    "# Explore the dataset\n",
    "batch_id = 2\n",
    "sample_id = 0\n",
    "helper.display_stats(cifar10_dataset_folder_path, batch_id, sample_id)"
   ]
  },
  {
   "cell_type": "markdown",
   "metadata": {},
   "source": [
    "## Implement Preprocess Functions\n",
    "### Normalize\n",
    "In the cell below, implement the `normalize` function to take in image data, `x`, and return it as a normalized Numpy array. The values should be in the range of 0 to 1, inclusive.  The return object should be the same shape as `x`."
   ]
  },
  {
   "cell_type": "code",
   "execution_count": 3,
   "metadata": {
    "collapsed": true
   },
   "outputs": [],
   "source": [
    "import pickle\n",
    "def load_cfar10_batch(cifar10_dataset_folder_path, batch_id):\n",
    "    \"\"\"\n",
    "    Load a batch of the dataset\n",
    "    \"\"\"\n",
    "    with open(cifar10_dataset_folder_path + '/data_batch_' + str(batch_id), mode='rb') as file:\n",
    "        batch = pickle.load(file, encoding='latin1')\n",
    "\n",
    "    features = batch['data'].reshape((len(batch['data']), 3, 32, 32)).transpose(0, 2, 3, 1)\n",
    "    labels = batch['labels']\n",
    "\n",
    "    return features, labels\n",
    "\n",
    "features, labels = load_cfar10_batch(cifar10_dataset_folder_path, batch_id)\n",
    "sample_image = features[sample_id]"
   ]
  },
  {
   "cell_type": "code",
   "execution_count": 4,
   "metadata": {},
   "outputs": [
    {
     "name": "stdout",
     "output_type": "stream",
     "text": [
      "0.977777777778\n",
      "0.0\n"
     ]
    }
   ],
   "source": [
    "temp = sample_image\n",
    "temp=(temp-np.min(temp))/np.max(temp)\n",
    "print(temp.max())\n",
    "print(temp.min())"
   ]
  },
  {
   "cell_type": "code",
   "execution_count": 5,
   "metadata": {},
   "outputs": [
    {
     "name": "stdout",
     "output_type": "stream",
     "text": [
      "Tests Passed\n"
     ]
    }
   ],
   "source": [
    "def normalize(x):\n",
    "    \"\"\"\n",
    "    Normalize a list of sample image data in the range of 0 to 1\n",
    "    : x: List of image data.  The image shape is (32, 32, 3)\n",
    "    : return: Numpy array of normalize data\n",
    "    \"\"\"\n",
    "    # TODO: Implement Function\n",
    "    #return None\n",
    "    output_temp = x\n",
    "    \n",
    "    #output = (output_temp-np.min(output_temp))/np.max(output_temp)\n",
    "    output = (output_temp-np.min(output_temp))/(np.max(output_temp)-np.min(output_temp)) ## project review\n",
    "    return output\n",
    "\n",
    "\n",
    "\"\"\"\n",
    "DON'T MODIFY ANYTHING IN THIS CELL THAT IS BELOW THIS LINE\n",
    "\"\"\"\n",
    "tests.test_normalize(normalize)"
   ]
  },
  {
   "cell_type": "markdown",
   "metadata": {},
   "source": [
    "### One-hot encode\n",
    "Just like the previous code cell, you'll be implementing a function for preprocessing.  This time, you'll implement the `one_hot_encode` function. The input, `x`, are a list of labels.  Implement the function to return the list of labels as One-Hot encoded Numpy array.  The possible values for labels are 0 to 9. The one-hot encoding function should return the same encoding for each value between each call to `one_hot_encode`.  Make sure to save the map of encodings outside the function.\n",
    "\n",
    "Hint: Don't reinvent the wheel."
   ]
  },
  {
   "cell_type": "code",
   "execution_count": 6,
   "metadata": {},
   "outputs": [
    {
     "name": "stdout",
     "output_type": "stream",
     "text": [
      "Tests Passed\n"
     ]
    }
   ],
   "source": [
    "def one_hot_encode(x):\n",
    "    \"\"\"\n",
    "    One hot encode a list of sample labels. Return a one-hot encoded vector for each label.\n",
    "    : x: List of sample Labels\n",
    "    : return: Numpy array of one-hot encoded labels\n",
    "    \"\"\"\n",
    "    # TODO: Implement Function\n",
    "    output = np.zeros([np.size(x),10])\n",
    "    \n",
    "    '''\n",
    "    for i,index in enumerate(x):\n",
    "        output[i,index]=1\n",
    "    '''\n",
    "    \n",
    "    output[np.arange(len(x)), x] = 1 ## project review\n",
    "    \n",
    "    return output\n",
    "\n",
    "\n",
    "\"\"\"\n",
    "DON'T MODIFY ANYTHING IN THIS CELL THAT IS BELOW THIS LINE\n",
    "\"\"\"\n",
    "tests.test_one_hot_encode(one_hot_encode)"
   ]
  },
  {
   "cell_type": "markdown",
   "metadata": {},
   "source": [
    "### Randomize Data\n",
    "As you saw from exploring the data above, the order of the samples are randomized.  It doesn't hurt to randomize it again, but you don't need to for this dataset."
   ]
  },
  {
   "cell_type": "markdown",
   "metadata": {},
   "source": [
    "## Preprocess all the data and save it\n",
    "Running the code cell below will preprocess all the CIFAR-10 data and save it to file. The code below also uses 10% of the training data for validation."
   ]
  },
  {
   "cell_type": "code",
   "execution_count": 7,
   "metadata": {
    "collapsed": true
   },
   "outputs": [],
   "source": [
    "\"\"\"\n",
    "DON'T MODIFY ANYTHING IN THIS CELL\n",
    "\"\"\"\n",
    "# Preprocess Training, Validation, and Testing Data\n",
    "helper.preprocess_and_save_data(cifar10_dataset_folder_path, normalize, one_hot_encode)"
   ]
  },
  {
   "cell_type": "markdown",
   "metadata": {},
   "source": [
    "# Check Point\n",
    "This is your first checkpoint.  If you ever decide to come back to this notebook or have to restart the notebook, you can start from here.  The preprocessed data has been saved to disk."
   ]
  },
  {
   "cell_type": "code",
   "execution_count": 8,
   "metadata": {
    "collapsed": true
   },
   "outputs": [],
   "source": [
    "\"\"\"\n",
    "DON'T MODIFY ANYTHING IN THIS CELL\n",
    "\"\"\"\n",
    "import pickle\n",
    "import problem_unittests as tests\n",
    "import helper\n",
    "\n",
    "# Load the Preprocessed Validation data\n",
    "valid_features, valid_labels = pickle.load(open('preprocess_validation.p', mode='rb'))"
   ]
  },
  {
   "cell_type": "markdown",
   "metadata": {},
   "source": [
    "## Build the network\n",
    "For the neural network, you'll build each layer into a function.  Most of the code you've seen has been outside of functions. To test your code more thoroughly, we require that you put each layer in a function.  This allows us to give you better feedback and test for simple mistakes using our unittests before you submit your project.\n",
    "\n",
    ">**Note:** If you're finding it hard to dedicate enough time for this course each week, we've provided a small shortcut to this part of the project. In the next couple of problems, you'll have the option to use classes from the [TensorFlow Layers](https://www.tensorflow.org/api_docs/python/tf/layers) or [TensorFlow Layers (contrib)](https://www.tensorflow.org/api_guides/python/contrib.layers) packages to build each layer, except the layers you build in the \"Convolutional and Max Pooling Layer\" section.  TF Layers is similar to Keras's and TFLearn's abstraction to layers, so it's easy to pickup.\n",
    "\n",
    ">However, if you would like to get the most out of this course, try to solve all the problems _without_ using anything from the TF Layers packages. You **can** still use classes from other packages that happen to have the same name as ones you find in TF Layers! For example, instead of using the TF Layers version of the `conv2d` class, [tf.layers.conv2d](https://www.tensorflow.org/api_docs/python/tf/layers/conv2d), you would want to use the TF Neural Network version of `conv2d`, [tf.nn.conv2d](https://www.tensorflow.org/api_docs/python/tf/nn/conv2d). \n",
    "\n",
    "Let's begin!\n",
    "\n",
    "### Input\n",
    "The neural network needs to read the image data, one-hot encoded labels, and dropout keep probability. Implement the following functions\n",
    "* Implement `neural_net_image_input`\n",
    " * Return a [TF Placeholder](https://www.tensorflow.org/api_docs/python/tf/placeholder)\n",
    " * Set the shape using `image_shape` with batch size set to `None`.\n",
    " * Name the TensorFlow placeholder \"x\" using the TensorFlow `name` parameter in the [TF Placeholder](https://www.tensorflow.org/api_docs/python/tf/placeholder).\n",
    "* Implement `neural_net_label_input`\n",
    " * Return a [TF Placeholder](https://www.tensorflow.org/api_docs/python/tf/placeholder)\n",
    " * Set the shape using `n_classes` with batch size set to `None`.\n",
    " * Name the TensorFlow placeholder \"y\" using the TensorFlow `name` parameter in the [TF Placeholder](https://www.tensorflow.org/api_docs/python/tf/placeholder).\n",
    "* Implement `neural_net_keep_prob_input`\n",
    " * Return a [TF Placeholder](https://www.tensorflow.org/api_docs/python/tf/placeholder) for dropout keep probability.\n",
    " * Name the TensorFlow placeholder \"keep_prob\" using the TensorFlow `name` parameter in the [TF Placeholder](https://www.tensorflow.org/api_docs/python/tf/placeholder).\n",
    "\n",
    "These names will be used at the end of the project to load your saved model.\n",
    "\n",
    "Note: `None` for shapes in TensorFlow allow for a dynamic size."
   ]
  },
  {
   "cell_type": "code",
   "execution_count": 9,
   "metadata": {},
   "outputs": [
    {
     "name": "stdout",
     "output_type": "stream",
     "text": [
      "Image Input Tests Passed.\n",
      "Label Input Tests Passed.\n",
      "Keep Prob Tests Passed.\n"
     ]
    }
   ],
   "source": [
    "import tensorflow as tf\n",
    "\n",
    "def neural_net_image_input(image_shape):\n",
    "    \"\"\"\n",
    "    Return a Tensor for a batch of image input\n",
    "    : image_shape: Shape of the images\n",
    "    : return: Tensor for image input.\n",
    "    \"\"\"\n",
    "    # TODO: Implement Function\n",
    "    #return None\n",
    "    \n",
    "    input_freatures = tf.placeholder(tf.float32, [None, image_shape[0],image_shape[1],image_shape[2]],'x')\n",
    "    return input_freatures\n",
    "\n",
    "\n",
    "def neural_net_label_input(n_classes):\n",
    "    \"\"\"\n",
    "    Return a Tensor for a batch of label input\n",
    "    : n_classes: Number of classes\n",
    "    : return: Tensor for label input.\n",
    "    \"\"\"\n",
    "    # TODO: Implement Function\n",
    "    #return None\n",
    "    input_labels = tf.placeholder(tf.float32,[None, n_classes],'y')\n",
    "    return input_labels\n",
    "\n",
    "\n",
    "def neural_net_keep_prob_input():\n",
    "    \"\"\"\n",
    "    Return a Tensor for keep probability\n",
    "    : return: Tensor for keep probability.\n",
    "    \"\"\"\n",
    "    # TODO: Implement Function\n",
    "    #return None\n",
    "    keep_prob = tf.placeholder(tf.float32,name='keep_prob') \n",
    "    return keep_prob\n",
    "\n",
    "\n",
    "\"\"\"\n",
    "DON'T MODIFY ANYTHING IN THIS CELL THAT IS BELOW THIS LINE\n",
    "\"\"\"\n",
    "tf.reset_default_graph()\n",
    "tests.test_nn_image_inputs(neural_net_image_input)\n",
    "tests.test_nn_label_inputs(neural_net_label_input)\n",
    "tests.test_nn_keep_prob_inputs(neural_net_keep_prob_input)"
   ]
  },
  {
   "cell_type": "markdown",
   "metadata": {},
   "source": [
    "### Convolution and Max Pooling Layer\n",
    "Convolution layers have a lot of success with images. For this code cell, you should implement the function `conv2d_maxpool` to apply convolution then max pooling:\n",
    "* Create the weight and bias using `conv_ksize`, `conv_num_outputs` and the shape of `x_tensor`.\n",
    "* Apply a convolution to `x_tensor` using weight and `conv_strides`.\n",
    " * We recommend you use same padding, but you're welcome to use any padding.\n",
    "* Add bias\n",
    "* Add a nonlinear activation to the convolution.\n",
    "* Apply Max Pooling using `pool_ksize` and `pool_strides`.\n",
    " * We recommend you use same padding, but you're welcome to use any padding.\n",
    "\n",
    "**Note:** You **can't** use [TensorFlow Layers](https://www.tensorflow.org/api_docs/python/tf/layers) or [TensorFlow Layers (contrib)](https://www.tensorflow.org/api_guides/python/contrib.layers) for **this** layer, but you can still use TensorFlow's [Neural Network](https://www.tensorflow.org/api_docs/python/tf/nn) package. You may still use the shortcut option for all the **other** layers."
   ]
  },
  {
   "cell_type": "code",
   "execution_count": 10,
   "metadata": {},
   "outputs": [
    {
     "name": "stdout",
     "output_type": "stream",
     "text": [
      "Tests Passed\n"
     ]
    }
   ],
   "source": [
    "def conv2d_maxpool(x_tensor, conv_num_outputs, conv_ksize, conv_strides, pool_ksize, pool_strides):\n",
    "    \"\"\"\n",
    "    Apply convolution then max pooling to x_tensor\n",
    "    :param x_tensor: TensorFlow Tensor\n",
    "    :param conv_num_outputs: Number of outputs for the convolutional layer\n",
    "    :param conv_ksize: kernal size 2-D Tuple for the convolutional layer\n",
    "    :param conv_strides: Stride 2-D Tuple for convolution\n",
    "    :param pool_ksize: kernal size 2-D Tuple for pool\n",
    "    :param pool_strides: Stride 2-D Tuple for pool\n",
    "    : return: A tensor that represents convolution and max pooling of x_tensor\n",
    "    \"\"\"\n",
    "    # TODO: Implement Function\n",
    "    #return None \n",
    "    \n",
    "    F_W  = tf.Variable(tf.random_normal([*conv_ksize, int(x_tensor.shape[3]), conv_num_outputs], stddev = 0.1))\n",
    "    F_b  = tf.Variable(tf.zeros(conv_num_outputs))\n",
    "\n",
    "    Output = tf.nn.conv2d(x_tensor, F_W , [1, *conv_strides, 1], padding='SAME')\n",
    "    Output = tf.nn.bias_add(Output, F_b )\n",
    "    Output = tf.nn.relu(Output)\n",
    "    Output = tf.nn.max_pool(Output, [1, *conv_ksize, 1], [1, *pool_strides, 1], padding='SAME')\n",
    "    \n",
    "    return Output\n",
    "\n",
    "\"\"\"\n",
    "DON'T MODIFY ANYTHING IN THIS CELL THAT IS BELOW THIS LINE\n",
    "\"\"\"\n",
    "tests.test_con_pool(conv2d_maxpool)"
   ]
  },
  {
   "cell_type": "markdown",
   "metadata": {},
   "source": [
    "### Flatten Layer\n",
    "Implement the `flatten` function to change the dimension of `x_tensor` from a 4-D tensor to a 2-D tensor.  The output should be the shape (*Batch Size*, *Flattened Image Size*). Shortcut option: you can use classes from the [TensorFlow Layers](https://www.tensorflow.org/api_docs/python/tf/layers) or [TensorFlow Layers (contrib)](https://www.tensorflow.org/api_guides/python/contrib.layers) packages for this layer. For more of a challenge, only use other TensorFlow packages."
   ]
  },
  {
   "cell_type": "code",
   "execution_count": 11,
   "metadata": {
    "scrolled": true
   },
   "outputs": [
    {
     "name": "stdout",
     "output_type": "stream",
     "text": [
      "Tests Passed\n"
     ]
    }
   ],
   "source": [
    "def flatten(x_tensor):\n",
    "    \"\"\"\n",
    "    Flatten x_tensor to (Batch Size, Flattened Image Size)\n",
    "    : x_tensor: A tensor of size (Batch Size, ...), where ... are the image dimensions.\n",
    "    : return: A tensor of size (Batch Size, Flattened Image Size).\n",
    "    \"\"\"\n",
    "    # TODO: Implement Function\n",
    "    #return None\n",
    "    shape = x_tensor.get_shape().as_list()        # a list: [None, x, y, z]\n",
    "    dim = np.prod(shape[1:])                      # dim = prod(x,y,z) = (x) x (y) x (z)\n",
    "    return tf.reshape(x_tensor, [-1, dim])  \n",
    "\n",
    "\n",
    "\"\"\"\n",
    "DON'T MODIFY ANYTHING IN THIS CELL THAT IS BELOW THIS LINE\n",
    "\"\"\"\n",
    "tests.test_flatten(flatten)"
   ]
  },
  {
   "cell_type": "markdown",
   "metadata": {},
   "source": [
    "### Fully-Connected Layer\n",
    "Implement the `fully_conn` function to apply a fully connected layer to `x_tensor` with the shape (*Batch Size*, *num_outputs*). Shortcut option: you can use classes from the [TensorFlow Layers](https://www.tensorflow.org/api_docs/python/tf/layers) or [TensorFlow Layers (contrib)](https://www.tensorflow.org/api_guides/python/contrib.layers) packages for this layer. For more of a challenge, only use other TensorFlow packages."
   ]
  },
  {
   "cell_type": "code",
   "execution_count": 12,
   "metadata": {},
   "outputs": [
    {
     "name": "stdout",
     "output_type": "stream",
     "text": [
      "Tests Passed\n"
     ]
    }
   ],
   "source": [
    "def fully_conn(x_tensor, num_outputs):\n",
    "    \"\"\"\n",
    "    Apply a fully connected layer to x_tensor using weight and bias\n",
    "    : x_tensor: A 2-D tensor where the first dimension is batch size.\n",
    "    : num_outputs: The number of output that the new tensor should be.\n",
    "    : return: A 2-D tensor where the second dimension is num_outputs.\n",
    "    \"\"\"\n",
    "    # TODO: Implement Function\n",
    "    #eturn None\n",
    "    \n",
    "    F_W  = tf.Variable(tf.random_normal([int(x_tensor.shape[1]), num_outputs], stddev = 0.1))\n",
    "    F_b  = tf.Variable(tf.zeros(num_outputs))\n",
    "    hidden_layer = tf.add(tf.matmul(x_tensor,F_W),F_b)\n",
    "    hidden_layer = tf.nn.relu(hidden_layer)\n",
    "    return hidden_layer\n",
    "\n",
    "\n",
    "\"\"\"\n",
    "DON'T MODIFY ANYTHING IN THIS CELL THAT IS BELOW THIS LINE\n",
    "\"\"\"\n",
    "tests.test_fully_conn(fully_conn)"
   ]
  },
  {
   "cell_type": "markdown",
   "metadata": {},
   "source": [
    "### Output Layer\n",
    "Implement the `output` function to apply a fully connected layer to `x_tensor` with the shape (*Batch Size*, *num_outputs*). Shortcut option: you can use classes from the [TensorFlow Layers](https://www.tensorflow.org/api_docs/python/tf/layers) or [TensorFlow Layers (contrib)](https://www.tensorflow.org/api_guides/python/contrib.layers) packages for this layer. For more of a challenge, only use other TensorFlow packages.\n",
    "\n",
    "**Note:** Activation, softmax, or cross entropy should **not** be applied to this."
   ]
  },
  {
   "cell_type": "code",
   "execution_count": 13,
   "metadata": {},
   "outputs": [
    {
     "name": "stdout",
     "output_type": "stream",
     "text": [
      "Tests Passed\n"
     ]
    }
   ],
   "source": [
    "def output(x_tensor, num_outputs):\n",
    "    \"\"\"\n",
    "    Apply a output layer to x_tensor using weight and bias\n",
    "    : x_tensor: A 2-D tensor where the first dimension is batch size.\n",
    "    : num_outputs: The number of output that the new tensor should be.\n",
    "    : return: A 2-D tensor where the second dimension is num_outputs.\n",
    "    \"\"\"\n",
    "    # TODO: Implement Function\n",
    "    #return None\n",
    "    F_W  = tf.Variable(tf.random_normal([int(x_tensor.shape[1]), num_outputs], stddev = 0.1))\n",
    "    F_b  = tf.Variable(tf.zeros(num_outputs))\n",
    "    Output = tf.add(tf.matmul(x_tensor,F_W),F_b)\n",
    "    return Output\n",
    "\n",
    "\"\"\"\n",
    "DON'T MODIFY ANYTHING IN THIS CELL THAT IS BELOW THIS LINE\n",
    "\"\"\"\n",
    "tests.test_output(output)"
   ]
  },
  {
   "cell_type": "markdown",
   "metadata": {},
   "source": [
    "### Create Convolutional Model\n",
    "Implement the function `conv_net` to create a convolutional neural network model. The function takes in a batch of images, `x`, and outputs logits.  Use the layers you created above to create this model:\n",
    "\n",
    "* Apply 1, 2, or 3 Convolution and Max Pool layers\n",
    "* Apply a Flatten Layer\n",
    "* Apply 1, 2, or 3 Fully Connected Layers\n",
    "* Apply an Output Layer\n",
    "* Return the output\n",
    "* Apply [TensorFlow's Dropout](https://www.tensorflow.org/api_docs/python/tf/nn/dropout) to one or more layers in the model using `keep_prob`. "
   ]
  },
  {
   "cell_type": "code",
   "execution_count": 14,
   "metadata": {},
   "outputs": [
    {
     "name": "stdout",
     "output_type": "stream",
     "text": [
      "Neural Network Built!\n"
     ]
    }
   ],
   "source": [
    "def conv_net(x, keep_prob):\n",
    "    \"\"\"\n",
    "    Create a convolutional neural network model\n",
    "    : x: Placeholder tensor that holds image data.\n",
    "    : keep_prob: Placeholder tensor that hold dropout keep probability.\n",
    "    : return: Tensor that represents logits\n",
    "    \"\"\"\n",
    "    # TODO: Apply 1, 2, or 3 Convolution and Max Pool layers\n",
    "    #    Play around with different number of outputs, kernel size and stride\n",
    "    # Function Definition from Above:\n",
    "    #    conv2d_maxpool(x_tensor, conv_num_outputs, conv_ksize, conv_strides, pool_ksize, pool_strides)\n",
    "    CNN1 = conv2d_maxpool(x,16,[3, 3], [2, 2],[3,3],[1, 1] )\n",
    "    CNN2 = conv2d_maxpool(CNN1,64,[3, 3], [2, 2] ,[3,3],[ 1, 1] )\n",
    "    CNN3 = conv2d_maxpool(CNN2,256,[3, 3], [2, 2] ,[3,3],[ 1, 1] )\n",
    "\n",
    "    # TODO: Apply a Flatten Layer\n",
    "    # Function Definition from Above:\n",
    "    #   flatten(x_tensor)\n",
    "    flatten_layer=flatten(CNN3)\n",
    "\n",
    "    # TODO: Apply 1, 2, or 3 Fully Connected Layers\n",
    "    #    Play around with different number of outputs\n",
    "    # Function Definition from Above:\n",
    "    #   fully_conn(x_tensor, num_outputs)\n",
    "    FC1=fully_conn(flatten_layer, 64)\n",
    "    FC2=fully_conn(FC1, 32)\n",
    "    FC3=fully_conn(FC2, 16)\n",
    "    FC3 = tf.nn.dropout(FC3, keep_prob)\n",
    "    # TODO: Apply an Output Layer\n",
    "    #    Set this to the number of classes\n",
    "    # Function Definition from Above:\n",
    "    #   output(x_tensor, num_outputs)\n",
    "    output_layer = output(FC3, 10)\n",
    "    \n",
    "    # TODO: return output\n",
    "    return output_layer\n",
    "\n",
    "\n",
    "\"\"\"\n",
    "DON'T MODIFY ANYTHING IN THIS CELL THAT IS BELOW THIS LINE\n",
    "\"\"\"\n",
    "\n",
    "##############################\n",
    "## Build the Neural Network ##\n",
    "##############################\n",
    "\n",
    "# Remove previous weights, bias, inputs, etc..\n",
    "tf.reset_default_graph()\n",
    "\n",
    "# Inputs\n",
    "x = neural_net_image_input((32, 32, 3))\n",
    "y = neural_net_label_input(10)\n",
    "keep_prob = neural_net_keep_prob_input()\n",
    "\n",
    "# Model\n",
    "logits = conv_net(x, keep_prob)\n",
    "\n",
    "# Name logits Tensor, so that is can be loaded from disk after training\n",
    "logits = tf.identity(logits, name='logits')\n",
    "\n",
    "# Loss and Optimizer\n",
    "cost = tf.reduce_mean(tf.nn.softmax_cross_entropy_with_logits(logits=logits, labels=y))\n",
    "optimizer = tf.train.AdamOptimizer().minimize(cost)\n",
    "\n",
    "# Accuracy\n",
    "correct_pred = tf.equal(tf.argmax(logits, 1), tf.argmax(y, 1))\n",
    "accuracy = tf.reduce_mean(tf.cast(correct_pred, tf.float32), name='accuracy')\n",
    "\n",
    "tests.test_conv_net(conv_net)"
   ]
  },
  {
   "cell_type": "markdown",
   "metadata": {},
   "source": [
    "## Train the Neural Network\n",
    "### Single Optimization\n",
    "Implement the function `train_neural_network` to do a single optimization.  The optimization should use `optimizer` to optimize in `session` with a `feed_dict` of the following:\n",
    "* `x` for image input\n",
    "* `y` for labels\n",
    "* `keep_prob` for keep probability for dropout\n",
    "\n",
    "This function will be called for each batch, so `tf.global_variables_initializer()` has already been called.\n",
    "\n",
    "Note: Nothing needs to be returned. This function is only optimizing the neural network."
   ]
  },
  {
   "cell_type": "code",
   "execution_count": 15,
   "metadata": {},
   "outputs": [
    {
     "name": "stdout",
     "output_type": "stream",
     "text": [
      "Tests Passed\n"
     ]
    }
   ],
   "source": [
    "def train_neural_network(session, optimizer, keep_probability, feature_batch, label_batch):\n",
    "    \"\"\"\n",
    "    Optimize the session on a batch of images and labels\n",
    "    : session: Current TensorFlow session\n",
    "    : optimizer: TensorFlow optimizer function\n",
    "    : keep_probability: keep probability\n",
    "    : feature_batch: Batch of Numpy image data\n",
    "    : label_batch: Batch of Numpy label data\n",
    "    \"\"\"\n",
    "    # TODO: Implement Function\n",
    "    #pass\n",
    "    session.run(optimizer,feed_dict={x:feature_batch, y:label_batch,keep_prob:keep_probability})\n",
    "\n",
    "\n",
    "\"\"\"\n",
    "DON'T MODIFY ANYTHING IN THIS CELL THAT IS BELOW THIS LINE\n",
    "\"\"\"\n",
    "tests.test_train_nn(train_neural_network)"
   ]
  },
  {
   "cell_type": "markdown",
   "metadata": {},
   "source": [
    "### Show Stats\n",
    "Implement the function `print_stats` to print loss and validation accuracy.  Use the global variables `valid_features` and `valid_labels` to calculate validation accuracy.  Use a keep probability of `1.0` to calculate the loss and validation accuracy."
   ]
  },
  {
   "cell_type": "code",
   "execution_count": 16,
   "metadata": {
    "collapsed": true
   },
   "outputs": [],
   "source": [
    "def print_stats(session, feature_batch, label_batch, cost, accuracy):\n",
    "    \"\"\"\n",
    "    Print information about loss and validation accuracy\n",
    "    : session: Current TensorFlow session\n",
    "    : feature_batch: Batch of Numpy image data\n",
    "    : label_batch: Batch of Numpy label data\n",
    "    : cost: TensorFlow cost function\n",
    "    : accuracy: TensorFlow accuracy function\n",
    "    \"\"\"\n",
    "    # TODO: Implement Function\n",
    "    #pass\n",
    "    loss = session.run(cost, feed_dict={x:feature_batch, y:label_batch, keep_prob:1.0})\n",
    "    valid_acc = session.run(accuracy, feed_dict={x: valid_features,y: valid_labels,keep_prob: 1.0})\n",
    "    print('Loss: {:>10.4f} Validation Accuracy: {:.6f}'.format(loss,valid_acc))"
   ]
  },
  {
   "cell_type": "markdown",
   "metadata": {},
   "source": [
    "### Hyperparameters\n",
    "Tune the following parameters:\n",
    "* Set `epochs` to the number of iterations until the network stops learning or start overfitting\n",
    "* Set `batch_size` to the highest number that your machine has memory for.  Most people set them to common sizes of memory:\n",
    " * 64\n",
    " * 128\n",
    " * 256\n",
    " * ...\n",
    "* Set `keep_probability` to the probability of keeping a node using dropout"
   ]
  },
  {
   "cell_type": "code",
   "execution_count": 17,
   "metadata": {
    "collapsed": true
   },
   "outputs": [],
   "source": [
    "# TODO: Tune Parameters\n",
    "epochs = 40\n",
    "batch_size = 128\n",
    "keep_probability =0.7"
   ]
  },
  {
   "cell_type": "markdown",
   "metadata": {},
   "source": [
    "### Train on a Single CIFAR-10 Batch\n",
    "Instead of training the neural network on all the CIFAR-10 batches of data, let's use a single batch. This should save time while you iterate on the model to get a better accuracy.  Once the final validation accuracy is 50% or greater, run the model on all the data in the next section."
   ]
  },
  {
   "cell_type": "code",
   "execution_count": 18,
   "metadata": {},
   "outputs": [
    {
     "name": "stdout",
     "output_type": "stream",
     "text": [
      "Checking the Training on a Single Batch...\n",
      "Epoch  1, CIFAR-10 Batch 1:  Loss:     2.3032 Validation Accuracy: 0.099800\n",
      "Epoch  2, CIFAR-10 Batch 1:  Loss:     2.3032 Validation Accuracy: 0.099800\n",
      "Epoch  3, CIFAR-10 Batch 1:  Loss:     2.3033 Validation Accuracy: 0.099800\n",
      "Epoch  4, CIFAR-10 Batch 1:  Loss:     2.3033 Validation Accuracy: 0.099800\n",
      "Epoch  5, CIFAR-10 Batch 1:  Loss:     2.3033 Validation Accuracy: 0.105000\n",
      "Epoch  6, CIFAR-10 Batch 1:  Loss:     2.3033 Validation Accuracy: 0.105000\n",
      "Epoch  7, CIFAR-10 Batch 1:  Loss:     2.3033 Validation Accuracy: 0.105000\n",
      "Epoch  8, CIFAR-10 Batch 1:  Loss:     2.3033 Validation Accuracy: 0.105000\n",
      "Epoch  9, CIFAR-10 Batch 1:  Loss:     2.3033 Validation Accuracy: 0.105000\n",
      "Epoch 10, CIFAR-10 Batch 1:  Loss:     2.3033 Validation Accuracy: 0.105000\n",
      "Epoch 11, CIFAR-10 Batch 1:  Loss:     2.3033 Validation Accuracy: 0.105000\n",
      "Epoch 12, CIFAR-10 Batch 1:  Loss:     2.3033 Validation Accuracy: 0.105000\n",
      "Epoch 13, CIFAR-10 Batch 1:  Loss:     2.3033 Validation Accuracy: 0.105000\n",
      "Epoch 14, CIFAR-10 Batch 1:  Loss:     2.3033 Validation Accuracy: 0.105000\n",
      "Epoch 15, CIFAR-10 Batch 1:  Loss:     2.3033 Validation Accuracy: 0.105000\n",
      "Epoch 16, CIFAR-10 Batch 1:  Loss:     2.3033 Validation Accuracy: 0.105000\n",
      "Epoch 17, CIFAR-10 Batch 1:  Loss:     2.3033 Validation Accuracy: 0.105000\n",
      "Epoch 18, CIFAR-10 Batch 1:  Loss:     2.3033 Validation Accuracy: 0.105000\n",
      "Epoch 19, CIFAR-10 Batch 1:  Loss:     2.3033 Validation Accuracy: 0.105000\n",
      "Epoch 20, CIFAR-10 Batch 1:  Loss:     2.3033 Validation Accuracy: 0.105000\n",
      "Epoch 21, CIFAR-10 Batch 1:  Loss:     2.3033 Validation Accuracy: 0.105000\n",
      "Epoch 22, CIFAR-10 Batch 1:  Loss:     2.3033 Validation Accuracy: 0.105000\n",
      "Epoch 23, CIFAR-10 Batch 1:  Loss:     2.3033 Validation Accuracy: 0.105000\n",
      "Epoch 24, CIFAR-10 Batch 1:  Loss:     2.3033 Validation Accuracy: 0.105000\n",
      "Epoch 25, CIFAR-10 Batch 1:  Loss:     2.3033 Validation Accuracy: 0.105000\n",
      "Epoch 26, CIFAR-10 Batch 1:  Loss:     2.3033 Validation Accuracy: 0.105000\n",
      "Epoch 27, CIFAR-10 Batch 1:  Loss:     2.3033 Validation Accuracy: 0.105000\n",
      "Epoch 28, CIFAR-10 Batch 1:  Loss:     2.3033 Validation Accuracy: 0.105000\n",
      "Epoch 29, CIFAR-10 Batch 1:  Loss:     2.3033 Validation Accuracy: 0.105000\n",
      "Epoch 30, CIFAR-10 Batch 1:  Loss:     2.3033 Validation Accuracy: 0.105000\n",
      "Epoch 31, CIFAR-10 Batch 1:  Loss:     2.3033 Validation Accuracy: 0.105000\n",
      "Epoch 32, CIFAR-10 Batch 1:  Loss:     2.3033 Validation Accuracy: 0.105000\n",
      "Epoch 33, CIFAR-10 Batch 1:  Loss:     2.3033 Validation Accuracy: 0.105000\n",
      "Epoch 34, CIFAR-10 Batch 1:  Loss:     2.3033 Validation Accuracy: 0.105000\n",
      "Epoch 35, CIFAR-10 Batch 1:  Loss:     2.3033 Validation Accuracy: 0.105000\n",
      "Epoch 36, CIFAR-10 Batch 1:  Loss:     2.3033 Validation Accuracy: 0.105000\n",
      "Epoch 37, CIFAR-10 Batch 1:  Loss:     2.3033 Validation Accuracy: 0.105000\n",
      "Epoch 38, CIFAR-10 Batch 1:  Loss:     2.3033 Validation Accuracy: 0.105000\n",
      "Epoch 39, CIFAR-10 Batch 1:  Loss:     2.3033 Validation Accuracy: 0.105000\n",
      "Epoch 40, CIFAR-10 Batch 1:  Loss:     2.3033 Validation Accuracy: 0.105000\n"
     ]
    }
   ],
   "source": [
    "\"\"\"\n",
    "DON'T MODIFY ANYTHING IN THIS CELL\n",
    "\"\"\"\n",
    "print('Checking the Training on a Single Batch...')\n",
    "with tf.Session() as sess:\n",
    "    # Initializing the variables\n",
    "    sess.run(tf.global_variables_initializer())\n",
    "    \n",
    "    # Training cycle\n",
    "    for epoch in range(epochs):\n",
    "        batch_i = 1\n",
    "        for batch_features, batch_labels in helper.load_preprocess_training_batch(batch_i, batch_size):\n",
    "            train_neural_network(sess, optimizer, keep_probability, batch_features, batch_labels)\n",
    "        print('Epoch {:>2}, CIFAR-10 Batch {}:  '.format(epoch + 1, batch_i), end='')\n",
    "        print_stats(sess, batch_features, batch_labels, cost, accuracy)"
   ]
  },
  {
   "cell_type": "markdown",
   "metadata": {},
   "source": [
    "### Fully Train the Model\n",
    "Now that you got a good accuracy with a single CIFAR-10 batch, try it with all five batches."
   ]
  },
  {
   "cell_type": "code",
   "execution_count": 19,
   "metadata": {},
   "outputs": [
    {
     "name": "stdout",
     "output_type": "stream",
     "text": [
      "Training...\n",
      "Epoch  1, CIFAR-10 Batch 1:  Loss:     2.2628 Validation Accuracy: 0.130000\n",
      "Epoch  1, CIFAR-10 Batch 2:  Loss:     1.9814 Validation Accuracy: 0.227600\n",
      "Epoch  1, CIFAR-10 Batch 3:  Loss:     1.7973 Validation Accuracy: 0.281400\n",
      "Epoch  1, CIFAR-10 Batch 4:  Loss:     1.7268 Validation Accuracy: 0.304600\n",
      "Epoch  1, CIFAR-10 Batch 5:  Loss:     1.7769 Validation Accuracy: 0.330200\n",
      "Epoch  2, CIFAR-10 Batch 1:  Loss:     1.8204 Validation Accuracy: 0.345200\n",
      "Epoch  2, CIFAR-10 Batch 2:  Loss:     1.6050 Validation Accuracy: 0.348800\n",
      "Epoch  2, CIFAR-10 Batch 3:  Loss:     1.4684 Validation Accuracy: 0.362000\n",
      "Epoch  2, CIFAR-10 Batch 4:  Loss:     1.5482 Validation Accuracy: 0.388600\n",
      "Epoch  2, CIFAR-10 Batch 5:  Loss:     1.4935 Validation Accuracy: 0.398400\n",
      "Epoch  3, CIFAR-10 Batch 1:  Loss:     1.6737 Validation Accuracy: 0.415400\n",
      "Epoch  3, CIFAR-10 Batch 2:  Loss:     1.4960 Validation Accuracy: 0.430200\n",
      "Epoch  3, CIFAR-10 Batch 3:  Loss:     1.4030 Validation Accuracy: 0.415400\n",
      "Epoch  3, CIFAR-10 Batch 4:  Loss:     1.5108 Validation Accuracy: 0.412200\n",
      "Epoch  3, CIFAR-10 Batch 5:  Loss:     1.4083 Validation Accuracy: 0.442000\n",
      "Epoch  4, CIFAR-10 Batch 1:  Loss:     1.5970 Validation Accuracy: 0.465800\n",
      "Epoch  4, CIFAR-10 Batch 2:  Loss:     1.4262 Validation Accuracy: 0.482400\n",
      "Epoch  4, CIFAR-10 Batch 3:  Loss:     1.2069 Validation Accuracy: 0.485400\n",
      "Epoch  4, CIFAR-10 Batch 4:  Loss:     1.3140 Validation Accuracy: 0.498000\n",
      "Epoch  4, CIFAR-10 Batch 5:  Loss:     1.2150 Validation Accuracy: 0.519400\n",
      "Epoch  5, CIFAR-10 Batch 1:  Loss:     1.3255 Validation Accuracy: 0.518600\n",
      "Epoch  5, CIFAR-10 Batch 2:  Loss:     1.2601 Validation Accuracy: 0.523600\n",
      "Epoch  5, CIFAR-10 Batch 3:  Loss:     1.1614 Validation Accuracy: 0.479600\n",
      "Epoch  5, CIFAR-10 Batch 4:  Loss:     1.2030 Validation Accuracy: 0.543400\n",
      "Epoch  5, CIFAR-10 Batch 5:  Loss:     1.0538 Validation Accuracy: 0.545400\n",
      "Epoch  6, CIFAR-10 Batch 1:  Loss:     1.2443 Validation Accuracy: 0.540400\n",
      "Epoch  6, CIFAR-10 Batch 2:  Loss:     1.1951 Validation Accuracy: 0.549400\n",
      "Epoch  6, CIFAR-10 Batch 3:  Loss:     1.0500 Validation Accuracy: 0.512400\n",
      "Epoch  6, CIFAR-10 Batch 4:  Loss:     1.1869 Validation Accuracy: 0.565800\n",
      "Epoch  6, CIFAR-10 Batch 5:  Loss:     0.9732 Validation Accuracy: 0.559400\n",
      "Epoch  7, CIFAR-10 Batch 1:  Loss:     1.0285 Validation Accuracy: 0.560800\n",
      "Epoch  7, CIFAR-10 Batch 2:  Loss:     0.9224 Validation Accuracy: 0.582800\n",
      "Epoch  7, CIFAR-10 Batch 3:  Loss:     0.9127 Validation Accuracy: 0.542600\n",
      "Epoch  7, CIFAR-10 Batch 4:  Loss:     1.0598 Validation Accuracy: 0.562600\n",
      "Epoch  7, CIFAR-10 Batch 5:  Loss:     0.8277 Validation Accuracy: 0.584800\n",
      "Epoch  8, CIFAR-10 Batch 1:  Loss:     1.0305 Validation Accuracy: 0.596400\n",
      "Epoch  8, CIFAR-10 Batch 2:  Loss:     0.8061 Validation Accuracy: 0.584400\n",
      "Epoch  8, CIFAR-10 Batch 3:  Loss:     0.7746 Validation Accuracy: 0.574000\n",
      "Epoch  8, CIFAR-10 Batch 4:  Loss:     1.0303 Validation Accuracy: 0.573200\n",
      "Epoch  8, CIFAR-10 Batch 5:  Loss:     0.7374 Validation Accuracy: 0.609400\n",
      "Epoch  9, CIFAR-10 Batch 1:  Loss:     1.0200 Validation Accuracy: 0.568800\n",
      "Epoch  9, CIFAR-10 Batch 2:  Loss:     0.6873 Validation Accuracy: 0.599400\n",
      "Epoch  9, CIFAR-10 Batch 3:  Loss:     0.7324 Validation Accuracy: 0.588800\n",
      "Epoch  9, CIFAR-10 Batch 4:  Loss:     0.8794 Validation Accuracy: 0.597800\n",
      "Epoch  9, CIFAR-10 Batch 5:  Loss:     0.6844 Validation Accuracy: 0.592000\n",
      "Epoch 10, CIFAR-10 Batch 1:  Loss:     0.8502 Validation Accuracy: 0.604600\n",
      "Epoch 10, CIFAR-10 Batch 2:  Loss:     0.6866 Validation Accuracy: 0.605200\n",
      "Epoch 10, CIFAR-10 Batch 3:  Loss:     0.6572 Validation Accuracy: 0.574800\n",
      "Epoch 10, CIFAR-10 Batch 4:  Loss:     0.8268 Validation Accuracy: 0.610200\n",
      "Epoch 10, CIFAR-10 Batch 5:  Loss:     0.6559 Validation Accuracy: 0.598400\n",
      "Epoch 11, CIFAR-10 Batch 1:  Loss:     0.7346 Validation Accuracy: 0.630400\n",
      "Epoch 11, CIFAR-10 Batch 2:  Loss:     0.5921 Validation Accuracy: 0.614800\n",
      "Epoch 11, CIFAR-10 Batch 3:  Loss:     0.5494 Validation Accuracy: 0.609600\n",
      "Epoch 11, CIFAR-10 Batch 4:  Loss:     0.7392 Validation Accuracy: 0.633200\n",
      "Epoch 11, CIFAR-10 Batch 5:  Loss:     0.5630 Validation Accuracy: 0.623000\n",
      "Epoch 12, CIFAR-10 Batch 1:  Loss:     0.7247 Validation Accuracy: 0.631000\n",
      "Epoch 12, CIFAR-10 Batch 2:  Loss:     0.5566 Validation Accuracy: 0.622400\n",
      "Epoch 12, CIFAR-10 Batch 3:  Loss:     0.5046 Validation Accuracy: 0.614000\n",
      "Epoch 12, CIFAR-10 Batch 4:  Loss:     0.7434 Validation Accuracy: 0.623800\n",
      "Epoch 12, CIFAR-10 Batch 5:  Loss:     0.5266 Validation Accuracy: 0.626000\n",
      "Epoch 13, CIFAR-10 Batch 1:  Loss:     0.6625 Validation Accuracy: 0.641400\n",
      "Epoch 13, CIFAR-10 Batch 2:  Loss:     0.5572 Validation Accuracy: 0.641800\n",
      "Epoch 13, CIFAR-10 Batch 3:  Loss:     0.4450 Validation Accuracy: 0.608400\n",
      "Epoch 13, CIFAR-10 Batch 4:  Loss:     0.6306 Validation Accuracy: 0.645200\n",
      "Epoch 13, CIFAR-10 Batch 5:  Loss:     0.4685 Validation Accuracy: 0.634000\n",
      "Epoch 14, CIFAR-10 Batch 1:  Loss:     0.7192 Validation Accuracy: 0.638400\n",
      "Epoch 14, CIFAR-10 Batch 2:  Loss:     0.4588 Validation Accuracy: 0.639600\n",
      "Epoch 14, CIFAR-10 Batch 3:  Loss:     0.4030 Validation Accuracy: 0.638600\n",
      "Epoch 14, CIFAR-10 Batch 4:  Loss:     0.5879 Validation Accuracy: 0.640200\n",
      "Epoch 14, CIFAR-10 Batch 5:  Loss:     0.4520 Validation Accuracy: 0.618800\n",
      "Epoch 15, CIFAR-10 Batch 1:  Loss:     0.6264 Validation Accuracy: 0.642000\n",
      "Epoch 15, CIFAR-10 Batch 2:  Loss:     0.4332 Validation Accuracy: 0.632400\n",
      "Epoch 15, CIFAR-10 Batch 3:  Loss:     0.4188 Validation Accuracy: 0.639400\n",
      "Epoch 15, CIFAR-10 Batch 4:  Loss:     0.5106 Validation Accuracy: 0.643200\n",
      "Epoch 15, CIFAR-10 Batch 5:  Loss:     0.3585 Validation Accuracy: 0.649600\n",
      "Epoch 16, CIFAR-10 Batch 1:  Loss:     0.6126 Validation Accuracy: 0.643200\n",
      "Epoch 16, CIFAR-10 Batch 2:  Loss:     0.3635 Validation Accuracy: 0.636800\n",
      "Epoch 16, CIFAR-10 Batch 3:  Loss:     0.3695 Validation Accuracy: 0.650200\n",
      "Epoch 16, CIFAR-10 Batch 4:  Loss:     0.4479 Validation Accuracy: 0.650600\n",
      "Epoch 16, CIFAR-10 Batch 5:  Loss:     0.3491 Validation Accuracy: 0.655200\n",
      "Epoch 17, CIFAR-10 Batch 1:  Loss:     0.5635 Validation Accuracy: 0.637800\n",
      "Epoch 17, CIFAR-10 Batch 2:  Loss:     0.3634 Validation Accuracy: 0.633800\n",
      "Epoch 17, CIFAR-10 Batch 3:  Loss:     0.2888 Validation Accuracy: 0.654400\n",
      "Epoch 17, CIFAR-10 Batch 4:  Loss:     0.4194 Validation Accuracy: 0.650200\n",
      "Epoch 17, CIFAR-10 Batch 5:  Loss:     0.3089 Validation Accuracy: 0.644400\n",
      "Epoch 18, CIFAR-10 Batch 1:  Loss:     0.5306 Validation Accuracy: 0.642600\n",
      "Epoch 18, CIFAR-10 Batch 2:  Loss:     0.4087 Validation Accuracy: 0.651400\n",
      "Epoch 18, CIFAR-10 Batch 3:  Loss:     0.2890 Validation Accuracy: 0.656600\n",
      "Epoch 18, CIFAR-10 Batch 4:  Loss:     0.4056 Validation Accuracy: 0.648200\n",
      "Epoch 18, CIFAR-10 Batch 5:  Loss:     0.2697 Validation Accuracy: 0.658800\n",
      "Epoch 19, CIFAR-10 Batch 1:  Loss:     0.5621 Validation Accuracy: 0.636200\n",
      "Epoch 19, CIFAR-10 Batch 2:  Loss:     0.3370 Validation Accuracy: 0.649200\n",
      "Epoch 19, CIFAR-10 Batch 3:  Loss:     0.2927 Validation Accuracy: 0.652800\n",
      "Epoch 19, CIFAR-10 Batch 4:  Loss:     0.4426 Validation Accuracy: 0.632800\n",
      "Epoch 19, CIFAR-10 Batch 5:  Loss:     0.2785 Validation Accuracy: 0.657800\n",
      "Epoch 20, CIFAR-10 Batch 1:  Loss:     0.5337 Validation Accuracy: 0.651200\n",
      "Epoch 20, CIFAR-10 Batch 2:  Loss:     0.3052 Validation Accuracy: 0.652800\n",
      "Epoch 20, CIFAR-10 Batch 3:  Loss:     0.3122 Validation Accuracy: 0.650400\n",
      "Epoch 20, CIFAR-10 Batch 4:  Loss:     0.4257 Validation Accuracy: 0.646800\n",
      "Epoch 20, CIFAR-10 Batch 5:  Loss:     0.2243 Validation Accuracy: 0.655400\n",
      "Epoch 21, CIFAR-10 Batch 1:  Loss:     0.4710 Validation Accuracy: 0.664800\n",
      "Epoch 21, CIFAR-10 Batch 2:  Loss:     0.3312 Validation Accuracy: 0.646600\n",
      "Epoch 21, CIFAR-10 Batch 3:  Loss:     0.2480 Validation Accuracy: 0.663000\n",
      "Epoch 21, CIFAR-10 Batch 4:  Loss:     0.3354 Validation Accuracy: 0.648600\n",
      "Epoch 21, CIFAR-10 Batch 5:  Loss:     0.2335 Validation Accuracy: 0.661400\n",
      "Epoch 22, CIFAR-10 Batch 1:  Loss:     0.4539 Validation Accuracy: 0.663600\n",
      "Epoch 22, CIFAR-10 Batch 2:  Loss:     0.3138 Validation Accuracy: 0.643800\n"
     ]
    },
    {
     "name": "stdout",
     "output_type": "stream",
     "text": [
      "Epoch 22, CIFAR-10 Batch 3:  Loss:     0.2335 Validation Accuracy: 0.660200\n",
      "Epoch 22, CIFAR-10 Batch 4:  Loss:     0.4471 Validation Accuracy: 0.623800\n",
      "Epoch 22, CIFAR-10 Batch 5:  Loss:     0.2044 Validation Accuracy: 0.655600\n",
      "Epoch 23, CIFAR-10 Batch 1:  Loss:     0.4636 Validation Accuracy: 0.659800\n",
      "Epoch 23, CIFAR-10 Batch 2:  Loss:     0.2696 Validation Accuracy: 0.660000\n",
      "Epoch 23, CIFAR-10 Batch 3:  Loss:     0.2816 Validation Accuracy: 0.649600\n",
      "Epoch 23, CIFAR-10 Batch 4:  Loss:     0.3523 Validation Accuracy: 0.645400\n",
      "Epoch 23, CIFAR-10 Batch 5:  Loss:     0.1678 Validation Accuracy: 0.664000\n",
      "Epoch 24, CIFAR-10 Batch 1:  Loss:     0.4352 Validation Accuracy: 0.660200\n",
      "Epoch 24, CIFAR-10 Batch 2:  Loss:     0.3036 Validation Accuracy: 0.657200\n",
      "Epoch 24, CIFAR-10 Batch 3:  Loss:     0.2727 Validation Accuracy: 0.644200\n",
      "Epoch 24, CIFAR-10 Batch 4:  Loss:     0.3659 Validation Accuracy: 0.642400\n",
      "Epoch 24, CIFAR-10 Batch 5:  Loss:     0.1875 Validation Accuracy: 0.663200\n",
      "Epoch 25, CIFAR-10 Batch 1:  Loss:     0.3969 Validation Accuracy: 0.663400\n",
      "Epoch 25, CIFAR-10 Batch 2:  Loss:     0.2825 Validation Accuracy: 0.651400\n",
      "Epoch 25, CIFAR-10 Batch 3:  Loss:     0.2399 Validation Accuracy: 0.644400\n",
      "Epoch 25, CIFAR-10 Batch 4:  Loss:     0.3426 Validation Accuracy: 0.624800\n",
      "Epoch 25, CIFAR-10 Batch 5:  Loss:     0.2276 Validation Accuracy: 0.659800\n",
      "Epoch 26, CIFAR-10 Batch 1:  Loss:     0.3727 Validation Accuracy: 0.654600\n",
      "Epoch 26, CIFAR-10 Batch 2:  Loss:     0.2745 Validation Accuracy: 0.669800\n",
      "Epoch 26, CIFAR-10 Batch 3:  Loss:     0.2090 Validation Accuracy: 0.657200\n",
      "Epoch 26, CIFAR-10 Batch 4:  Loss:     0.2922 Validation Accuracy: 0.645600\n",
      "Epoch 26, CIFAR-10 Batch 5:  Loss:     0.2124 Validation Accuracy: 0.659400\n",
      "Epoch 27, CIFAR-10 Batch 1:  Loss:     0.3965 Validation Accuracy: 0.649200\n",
      "Epoch 27, CIFAR-10 Batch 2:  Loss:     0.2133 Validation Accuracy: 0.668200\n",
      "Epoch 27, CIFAR-10 Batch 3:  Loss:     0.1681 Validation Accuracy: 0.654800\n",
      "Epoch 27, CIFAR-10 Batch 4:  Loss:     0.2629 Validation Accuracy: 0.647400\n",
      "Epoch 27, CIFAR-10 Batch 5:  Loss:     0.1933 Validation Accuracy: 0.663000\n",
      "Epoch 28, CIFAR-10 Batch 1:  Loss:     0.3804 Validation Accuracy: 0.665200\n",
      "Epoch 28, CIFAR-10 Batch 2:  Loss:     0.2763 Validation Accuracy: 0.655000\n",
      "Epoch 28, CIFAR-10 Batch 3:  Loss:     0.1874 Validation Accuracy: 0.656000\n",
      "Epoch 28, CIFAR-10 Batch 4:  Loss:     0.2196 Validation Accuracy: 0.652600\n",
      "Epoch 28, CIFAR-10 Batch 5:  Loss:     0.1788 Validation Accuracy: 0.657400\n",
      "Epoch 29, CIFAR-10 Batch 1:  Loss:     0.3991 Validation Accuracy: 0.653800\n",
      "Epoch 29, CIFAR-10 Batch 2:  Loss:     0.2561 Validation Accuracy: 0.655000\n",
      "Epoch 29, CIFAR-10 Batch 3:  Loss:     0.1693 Validation Accuracy: 0.661800\n",
      "Epoch 29, CIFAR-10 Batch 4:  Loss:     0.2497 Validation Accuracy: 0.654200\n",
      "Epoch 29, CIFAR-10 Batch 5:  Loss:     0.1690 Validation Accuracy: 0.651200\n",
      "Epoch 30, CIFAR-10 Batch 1:  Loss:     0.3251 Validation Accuracy: 0.652200\n",
      "Epoch 30, CIFAR-10 Batch 2:  Loss:     0.2836 Validation Accuracy: 0.652400\n",
      "Epoch 30, CIFAR-10 Batch 3:  Loss:     0.1820 Validation Accuracy: 0.653800\n",
      "Epoch 30, CIFAR-10 Batch 4:  Loss:     0.2161 Validation Accuracy: 0.651000\n",
      "Epoch 30, CIFAR-10 Batch 5:  Loss:     0.1713 Validation Accuracy: 0.661400\n",
      "Epoch 31, CIFAR-10 Batch 1:  Loss:     0.3743 Validation Accuracy: 0.652200\n",
      "Epoch 31, CIFAR-10 Batch 2:  Loss:     0.2281 Validation Accuracy: 0.665400\n",
      "Epoch 31, CIFAR-10 Batch 3:  Loss:     0.2228 Validation Accuracy: 0.664000\n",
      "Epoch 31, CIFAR-10 Batch 4:  Loss:     0.2420 Validation Accuracy: 0.649000\n",
      "Epoch 31, CIFAR-10 Batch 5:  Loss:     0.1571 Validation Accuracy: 0.664000\n",
      "Epoch 32, CIFAR-10 Batch 1:  Loss:     0.3265 Validation Accuracy: 0.636000\n",
      "Epoch 32, CIFAR-10 Batch 2:  Loss:     0.2345 Validation Accuracy: 0.654000\n",
      "Epoch 32, CIFAR-10 Batch 3:  Loss:     0.2230 Validation Accuracy: 0.659400\n",
      "Epoch 32, CIFAR-10 Batch 4:  Loss:     0.1957 Validation Accuracy: 0.655200\n",
      "Epoch 32, CIFAR-10 Batch 5:  Loss:     0.1472 Validation Accuracy: 0.645400\n",
      "Epoch 33, CIFAR-10 Batch 1:  Loss:     0.2405 Validation Accuracy: 0.666800\n",
      "Epoch 33, CIFAR-10 Batch 2:  Loss:     0.2229 Validation Accuracy: 0.658000\n",
      "Epoch 33, CIFAR-10 Batch 3:  Loss:     0.1713 Validation Accuracy: 0.663800\n",
      "Epoch 33, CIFAR-10 Batch 4:  Loss:     0.2100 Validation Accuracy: 0.656800\n",
      "Epoch 33, CIFAR-10 Batch 5:  Loss:     0.1276 Validation Accuracy: 0.673600\n",
      "Epoch 34, CIFAR-10 Batch 1:  Loss:     0.2788 Validation Accuracy: 0.655400\n",
      "Epoch 34, CIFAR-10 Batch 2:  Loss:     0.2300 Validation Accuracy: 0.660400\n",
      "Epoch 34, CIFAR-10 Batch 3:  Loss:     0.2338 Validation Accuracy: 0.657200\n",
      "Epoch 34, CIFAR-10 Batch 4:  Loss:     0.2477 Validation Accuracy: 0.649000\n",
      "Epoch 34, CIFAR-10 Batch 5:  Loss:     0.1437 Validation Accuracy: 0.669600\n",
      "Epoch 35, CIFAR-10 Batch 1:  Loss:     0.2878 Validation Accuracy: 0.659200\n",
      "Epoch 35, CIFAR-10 Batch 2:  Loss:     0.1862 Validation Accuracy: 0.656200\n",
      "Epoch 35, CIFAR-10 Batch 3:  Loss:     0.1985 Validation Accuracy: 0.645400\n",
      "Epoch 35, CIFAR-10 Batch 4:  Loss:     0.1827 Validation Accuracy: 0.667200\n",
      "Epoch 35, CIFAR-10 Batch 5:  Loss:     0.1731 Validation Accuracy: 0.662600\n",
      "Epoch 36, CIFAR-10 Batch 1:  Loss:     0.2878 Validation Accuracy: 0.661400\n",
      "Epoch 36, CIFAR-10 Batch 2:  Loss:     0.2120 Validation Accuracy: 0.644600\n",
      "Epoch 36, CIFAR-10 Batch 3:  Loss:     0.1780 Validation Accuracy: 0.663200\n",
      "Epoch 36, CIFAR-10 Batch 4:  Loss:     0.1856 Validation Accuracy: 0.659600\n",
      "Epoch 36, CIFAR-10 Batch 5:  Loss:     0.1595 Validation Accuracy: 0.649200\n",
      "Epoch 37, CIFAR-10 Batch 1:  Loss:     0.2381 Validation Accuracy: 0.664200\n",
      "Epoch 37, CIFAR-10 Batch 2:  Loss:     0.1718 Validation Accuracy: 0.653600\n",
      "Epoch 37, CIFAR-10 Batch 3:  Loss:     0.1623 Validation Accuracy: 0.665600\n",
      "Epoch 37, CIFAR-10 Batch 4:  Loss:     0.1759 Validation Accuracy: 0.657400\n",
      "Epoch 37, CIFAR-10 Batch 5:  Loss:     0.0965 Validation Accuracy: 0.673400\n",
      "Epoch 38, CIFAR-10 Batch 1:  Loss:     0.2707 Validation Accuracy: 0.668200\n",
      "Epoch 38, CIFAR-10 Batch 2:  Loss:     0.1594 Validation Accuracy: 0.663600\n",
      "Epoch 38, CIFAR-10 Batch 3:  Loss:     0.1274 Validation Accuracy: 0.657800\n",
      "Epoch 38, CIFAR-10 Batch 4:  Loss:     0.1698 Validation Accuracy: 0.656600\n",
      "Epoch 38, CIFAR-10 Batch 5:  Loss:     0.1234 Validation Accuracy: 0.664600\n",
      "Epoch 39, CIFAR-10 Batch 1:  Loss:     0.2368 Validation Accuracy: 0.656200\n",
      "Epoch 39, CIFAR-10 Batch 2:  Loss:     0.1845 Validation Accuracy: 0.664200\n",
      "Epoch 39, CIFAR-10 Batch 3:  Loss:     0.1405 Validation Accuracy: 0.659800\n",
      "Epoch 39, CIFAR-10 Batch 4:  Loss:     0.1386 Validation Accuracy: 0.665000\n",
      "Epoch 39, CIFAR-10 Batch 5:  Loss:     0.0819 Validation Accuracy: 0.663200\n",
      "Epoch 40, CIFAR-10 Batch 1:  Loss:     0.2571 Validation Accuracy: 0.666200\n",
      "Epoch 40, CIFAR-10 Batch 2:  Loss:     0.1649 Validation Accuracy: 0.663600\n",
      "Epoch 40, CIFAR-10 Batch 3:  Loss:     0.1782 Validation Accuracy: 0.650800\n",
      "Epoch 40, CIFAR-10 Batch 4:  Loss:     0.1352 Validation Accuracy: 0.661200\n",
      "Epoch 40, CIFAR-10 Batch 5:  Loss:     0.0959 Validation Accuracy: 0.666200\n"
     ]
    }
   ],
   "source": [
    "\"\"\"\n",
    "DON'T MODIFY ANYTHING IN THIS CELL\n",
    "\"\"\"\n",
    "save_model_path = './image_classification'\n",
    "\n",
    "print('Training...')\n",
    "with tf.Session() as sess:\n",
    "    # Initializing the variables\n",
    "    sess.run(tf.global_variables_initializer())\n",
    "    \n",
    "    # Training cycle\n",
    "    for epoch in range(epochs):\n",
    "        # Loop over all batches\n",
    "        n_batches = 5\n",
    "        for batch_i in range(1, n_batches + 1):\n",
    "            for batch_features, batch_labels in helper.load_preprocess_training_batch(batch_i, batch_size):\n",
    "                train_neural_network(sess, optimizer, keep_probability, batch_features, batch_labels)\n",
    "            print('Epoch {:>2}, CIFAR-10 Batch {}:  '.format(epoch + 1, batch_i), end='')\n",
    "            print_stats(sess, batch_features, batch_labels, cost, accuracy)\n",
    "            \n",
    "    # Save Model\n",
    "    saver = tf.train.Saver()\n",
    "    save_path = saver.save(sess, save_model_path)"
   ]
  },
  {
   "cell_type": "markdown",
   "metadata": {},
   "source": [
    "\n",
    "# Checkpoint\n",
    "The model has been saved to disk.\n",
    "## Test Model\n",
    "Test your model against the test dataset.  This will be your final accuracy. You should have an accuracy greater than 50%. If you don't, keep tweaking the model architecture and parameters."
   ]
  },
  {
   "cell_type": "code",
   "execution_count": 20,
   "metadata": {},
   "outputs": [
    {
     "name": "stdout",
     "output_type": "stream",
     "text": [
      "INFO:tensorflow:Restoring parameters from ./image_classification\n",
      "Testing Accuracy: 0.6652492088607594\n",
      "\n"
     ]
    },
    {
     "data": {
      "image/png": "[encoded data removed]",
      "text/plain": [
       "<matplotlib.figure.Figure at 0x276818cf6d8>"
      ]
     },
     "metadata": {
      "image/png": {
       "height": 319,
       "width": 355
      }
     },
     "output_type": "display_data"
    }
   ],
   "source": [
    "\"\"\"\n",
    "DON'T MODIFY ANYTHING IN THIS CELL\n",
    "\"\"\"\n",
    "%matplotlib inline\n",
    "%config InlineBackend.figure_format = 'retina'\n",
    "\n",
    "import tensorflow as tf\n",
    "import pickle\n",
    "import helper\n",
    "import random\n",
    "\n",
    "# Set batch size if not already set\n",
    "try:\n",
    "    if batch_size:\n",
    "        pass\n",
    "except NameError:\n",
    "    batch_size = 64\n",
    "\n",
    "save_model_path = './image_classification'\n",
    "n_samples = 4\n",
    "top_n_predictions = 3\n",
    "\n",
    "def test_model():\n",
    "    \"\"\"\n",
    "    Test the saved model against the test dataset\n",
    "    \"\"\"\n",
    "\n",
    "    test_features, test_labels = pickle.load(open('preprocess_test.p', mode='rb'))\n",
    "    loaded_graph = tf.Graph()\n",
    "\n",
    "    with tf.Session(graph=loaded_graph) as sess:\n",
    "        # Load model\n",
    "        loader = tf.train.import_meta_graph(save_model_path + '.meta')\n",
    "        loader.restore(sess, save_model_path)\n",
    "\n",
    "        # Get Tensors from loaded model\n",
    "        loaded_x = loaded_graph.get_tensor_by_name('x:0')\n",
    "        loaded_y = loaded_graph.get_tensor_by_name('y:0')\n",
    "        loaded_keep_prob = loaded_graph.get_tensor_by_name('keep_prob:0')\n",
    "        loaded_logits = loaded_graph.get_tensor_by_name('logits:0')\n",
    "        loaded_acc = loaded_graph.get_tensor_by_name('accuracy:0')\n",
    "        \n",
    "        # Get accuracy in batches for memory limitations\n",
    "        test_batch_acc_total = 0\n",
    "        test_batch_count = 0\n",
    "        \n",
    "        for test_feature_batch, test_label_batch in helper.batch_features_labels(test_features, test_labels, batch_size):\n",
    "            test_batch_acc_total += sess.run(\n",
    "                loaded_acc,\n",
    "                feed_dict={loaded_x: test_feature_batch, loaded_y: test_label_batch, loaded_keep_prob: 1.0})\n",
    "            test_batch_count += 1\n",
    "\n",
    "        print('Testing Accuracy: {}\\n'.format(test_batch_acc_total/test_batch_count))\n",
    "\n",
    "        # Print Random Samples\n",
    "        random_test_features, random_test_labels = tuple(zip(*random.sample(list(zip(test_features, test_labels)), n_samples)))\n",
    "        random_test_predictions = sess.run(\n",
    "            tf.nn.top_k(tf.nn.softmax(loaded_logits), top_n_predictions),\n",
    "            feed_dict={loaded_x: random_test_features, loaded_y: random_test_labels, loaded_keep_prob: 1.0})\n",
    "        helper.display_image_predictions(random_test_features, random_test_labels, random_test_predictions)\n",
    "\n",
    "\n",
    "test_model()"
   ]
  },
  {
   "cell_type": "markdown",
   "metadata": {},
   "source": [
    "## Why 50-80% Accuracy?\n",
    "You might be wondering why you can't get an accuracy any higher. First things first, 50% isn't bad for a simple CNN.  Pure guessing would get you 10% accuracy. However, you might notice people are getting scores [well above 80%](http://rodrigob.github.io/are_we_there_yet/build/classification_datasets_results.html#43494641522d3130).  That's because we haven't taught you all there is to know about neural networks. We still need to cover a few more techniques.\n",
    "## Submitting This Project\n",
    "When submitting this project, make sure to run all the cells before saving the notebook.  Save the notebook file as \"dlnd_image_classification.ipynb\" and save it as a HTML file under \"File\" -> \"Download as\".  Include the \"helper.py\" and \"problem_unittests.py\" files in your submission."
   ]
  }
 ],
 "metadata": {
  "anaconda-cloud": {},
  "kernelspec": {
   "display_name": "Python 3",
   "language": "python",
   "name": "python3"
  },
  "language_info": {
   "codemirror_mode": {
    "name": "ipython",
    "version": 3
   },
   "file_extension": ".py",
   "mimetype": "text/x-python",
   "name": "python",
   "nbconvert_exporter": "python",
   "pygments_lexer": "ipython3",
   "version": "3.5.4"
  }
 },
 "nbformat": 4,
 "nbformat_minor": 1
}
